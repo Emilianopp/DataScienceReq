{
 "cells": [
  {
   "cell_type": "markdown",
   "metadata": {},
   "source": [
    "# Mongo notebook to update fields\n",
    "\n",
    "##  DO NOT RUN THIS STRAIGHT UP \n",
    "\n",
    "## IF YOU MAKE CHANGES DOCUMENENT THEM AND ENCAPSULATE THEM IN A FUNCTION THAT WONT BE RAN TO SAFEGUARD "
   ]
  },
  {
   "cell_type": "code",
   "execution_count": 2,
   "metadata": {},
   "outputs": [],
   "source": [
    "import yaml\n",
    "with open(\"../../secrets.yaml\", 'r') as f:\n",
    "    config = yaml.safe_load(f)\n"
   ]
  },
  {
   "cell_type": "code",
   "execution_count": 4,
   "metadata": {},
   "outputs": [],
   "source": [
    "from pymongo import MongoClient\n",
    "client = MongoClient(config[\"mongoServer\"])\n"
   ]
  },
  {
   "cell_type": "markdown",
   "metadata": {},
   "source": [
    "Update analysis tables "
   ]
  },
  {
   "cell_type": "code",
   "execution_count": 20,
   "metadata": {},
   "outputs": [],
   "source": [
    "\n",
    "tables = ['techs','education','ops','packages']\n",
    "\n",
    "def changeTables():\n",
    "    for table in tables: \n",
    "        curTable = client.prod[table]\n",
    "        query = curTable.find({},{\"_id\":0,\"url\":1})\n",
    "        for item in query: \n",
    "            url = item.get(\"url\")\n",
    "            region = client.prod.Scraped_Data.find_one({\"url\":url},{\"_id\":0,\"region\":1})    \n",
    "            curTable.update_one({\"url\":url},{'$set':region})\n",
    "        \n",
    "       \n",
    "   "
   ]
  },
  {
   "cell_type": "code",
   "execution_count": 21,
   "metadata": {},
   "outputs": [],
   "source": [
    "def checkDups():\n",
    "    tab = client.prod['techs_test']\n",
    "    query = tab.find({},{\"url\":1})\n",
    "    urls = []\n",
    "    for i in query: \n",
    "        url = i.get(\"url\")\n",
    "        if url in urls: \n",
    "            print(\"FUCK\",url)\n",
    "            break\n",
    "        urls.append(url)\n",
    "    "
   ]
  }
 ],
 "metadata": {
  "interpreter": {
   "hash": "e99705b024d1afa3704c5c6e6bad0aa71f5161e693dd13240058dc51c3371d8c"
  },
  "kernelspec": {
   "display_name": "Python 3.8.6 64-bit ('skillquery': conda)",
   "language": "python",
   "name": "python3"
  },
  "language_info": {
   "codemirror_mode": {
    "name": "ipython",
    "version": 3
   },
   "file_extension": ".py",
   "mimetype": "text/x-python",
   "name": "python",
   "nbconvert_exporter": "python",
   "pygments_lexer": "ipython3",
   "version": "3.8.6"
  },
  "orig_nbformat": 4
 },
 "nbformat": 4,
 "nbformat_minor": 2
}
