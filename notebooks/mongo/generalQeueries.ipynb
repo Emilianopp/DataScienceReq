{
 "cells": [
  {
   "cell_type": "code",
   "execution_count": 2,
   "metadata": {},
   "outputs": [],
   "source": [
    "from pymongo import MongoClient\n",
    "import yaml\n",
    "from datetime import datetime\n",
    "with open(\"../../secrets.yaml\", 'r') as f:\n",
    "    config = yaml.safe_load(f)\n",
    "client = MongoClient(config[\"mongoServer\"])\n"
   ]
  },
  {
   "cell_type": "code",
   "execution_count": 6,
   "metadata": {},
   "outputs": [
    {
     "data": {
      "text/plain": [
       "datetime.datetime(2022, 1, 1, 0, 0)"
      ]
     },
     "execution_count": 6,
     "metadata": {},
     "output_type": "execute_result"
    }
   ],
   "source": [
    "date"
   ]
  },
  {
   "cell_type": "code",
   "execution_count": 11,
   "metadata": {},
   "outputs": [],
   "source": [
    "dates = datetime.today().strftime('%m/%Y')\n",
    "date = datetime.strptime(dates, \"%m/%Y\")\n",
    "q = client.prod.model_inputs.find({\"Country\":\"Canada\",\"date\":date,'role':\"Data Analyst\"})\n"
   ]
  },
  {
   "cell_type": "code",
   "execution_count": 12,
   "metadata": {},
   "outputs": [
    {
     "data": {
      "text/plain": [
       "85"
      ]
     },
     "execution_count": 12,
     "metadata": {},
     "output_type": "execute_result"
    }
   ],
   "source": [
    "r=[x for x in q]\n",
    "len(r)"
   ]
  },
  {
   "cell_type": "code",
   "execution_count": 66,
   "metadata": {},
   "outputs": [
    {
     "data": {
      "text/plain": [
       "datetime.datetime(2022, 1, 1, 0, 0)"
      ]
     },
     "execution_count": 66,
     "metadata": {},
     "output_type": "execute_result"
    }
   ],
   "source": [
    "dates = datetime.today().strftime('%m/%Y')\n",
    "date = datetime.strptime(dates, \"%m/%Y\")\n",
    "date"
   ]
  }
 ],
 "metadata": {
  "interpreter": {
   "hash": "e99705b024d1afa3704c5c6e6bad0aa71f5161e693dd13240058dc51c3371d8c"
  },
  "kernelspec": {
   "display_name": "Python 3.8.6 64-bit ('skillquery': conda)",
   "language": "python",
   "name": "python3"
  },
  "language_info": {
   "codemirror_mode": {
    "name": "ipython",
    "version": 3
   },
   "file_extension": ".py",
   "mimetype": "text/x-python",
   "name": "python",
   "nbconvert_exporter": "python",
   "pygments_lexer": "ipython3",
   "version": "3.8.6"
  },
  "orig_nbformat": 4
 },
 "nbformat": 4,
 "nbformat_minor": 2
}
