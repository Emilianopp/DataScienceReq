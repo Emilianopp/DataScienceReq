{
  "nbformat": 4,
  "nbformat_minor": 2,
  "metadata": {
    "colab": {
      "name": "BERT_classification.ipynb",
      "provenance": []
    },
    "kernelspec": {
      "name": "python3",
      "display_name": "Python 3"
    },
    "language_info": {
      "name": "python"
    },
    "accelerator": "GPU",
    "widgets": {
      "application/vnd.jupyter.widget-state+json": {
        "9b428e5fd6114a6294e7ea5be886ff29": {
          "model_module": "@jupyter-widgets/controls",
          "model_name": "HBoxModel",
          "model_module_version": "1.5.0",
          "state": {
            "_view_name": "HBoxView",
            "_dom_classes": [],
            "_model_name": "HBoxModel",
            "_view_module": "@jupyter-widgets/controls",
            "_model_module_version": "1.5.0",
            "_view_count": null,
            "_view_module_version": "1.5.0",
            "box_style": "",
            "layout": "IPY_MODEL_54721457e5bb4aef8029933fbc667fa7",
            "_model_module": "@jupyter-widgets/controls",
            "children": [
              "IPY_MODEL_d910809cc29144f393d7542915d0b5c4",
              "IPY_MODEL_548dd00caff54498b8f1bb192be855f7",
              "IPY_MODEL_694317c6a7964f9f88511a9ef9668ac6"
            ]
          }
        },
        "54721457e5bb4aef8029933fbc667fa7": {
          "model_module": "@jupyter-widgets/base",
          "model_name": "LayoutModel",
          "model_module_version": "1.2.0",
          "state": {
            "_view_name": "LayoutView",
            "grid_template_rows": null,
            "right": null,
            "justify_content": null,
            "_view_module": "@jupyter-widgets/base",
            "overflow": null,
            "_model_module_version": "1.2.0",
            "_view_count": null,
            "flex_flow": null,
            "width": null,
            "min_width": null,
            "border": null,
            "align_items": null,
            "bottom": null,
            "_model_module": "@jupyter-widgets/base",
            "top": null,
            "grid_column": null,
            "overflow_y": null,
            "overflow_x": null,
            "grid_auto_flow": null,
            "grid_area": null,
            "grid_template_columns": null,
            "flex": null,
            "_model_name": "LayoutModel",
            "justify_items": null,
            "grid_row": null,
            "max_height": null,
            "align_content": null,
            "visibility": null,
            "align_self": null,
            "height": null,
            "min_height": null,
            "padding": null,
            "grid_auto_rows": null,
            "grid_gap": null,
            "max_width": null,
            "order": null,
            "_view_module_version": "1.2.0",
            "grid_template_areas": null,
            "object_position": null,
            "object_fit": null,
            "grid_auto_columns": null,
            "margin": null,
            "display": null,
            "left": null
          }
        },
        "d910809cc29144f393d7542915d0b5c4": {
          "model_module": "@jupyter-widgets/controls",
          "model_name": "HTMLModel",
          "model_module_version": "1.5.0",
          "state": {
            "_view_name": "HTMLView",
            "style": "IPY_MODEL_c10d41fa454c454fbda5c8dd52f2d9a8",
            "_dom_classes": [],
            "description": "",
            "_model_name": "HTMLModel",
            "placeholder": "​",
            "_view_module": "@jupyter-widgets/controls",
            "_model_module_version": "1.5.0",
            "value": "Downloading: 100%",
            "_view_count": null,
            "_view_module_version": "1.5.0",
            "description_tooltip": null,
            "_model_module": "@jupyter-widgets/controls",
            "layout": "IPY_MODEL_9083c14609f6419e8907603b3ca879a5"
          }
        },
        "548dd00caff54498b8f1bb192be855f7": {
          "model_module": "@jupyter-widgets/controls",
          "model_name": "FloatProgressModel",
          "model_module_version": "1.5.0",
          "state": {
            "_view_name": "ProgressView",
            "style": "IPY_MODEL_3f699975d50e45fc8ef062f4103568d3",
            "_dom_classes": [],
            "description": "",
            "_model_name": "FloatProgressModel",
            "bar_style": "success",
            "max": 231508,
            "_view_module": "@jupyter-widgets/controls",
            "_model_module_version": "1.5.0",
            "value": 231508,
            "_view_count": null,
            "_view_module_version": "1.5.0",
            "orientation": "horizontal",
            "min": 0,
            "description_tooltip": null,
            "_model_module": "@jupyter-widgets/controls",
            "layout": "IPY_MODEL_fa5bffff76894e2c86e729a5278f335a"
          }
        },
        "694317c6a7964f9f88511a9ef9668ac6": {
          "model_module": "@jupyter-widgets/controls",
          "model_name": "HTMLModel",
          "model_module_version": "1.5.0",
          "state": {
            "_view_name": "HTMLView",
            "style": "IPY_MODEL_6cafc14608b0477b8812f2d4497f2412",
            "_dom_classes": [],
            "description": "",
            "_model_name": "HTMLModel",
            "placeholder": "​",
            "_view_module": "@jupyter-widgets/controls",
            "_model_module_version": "1.5.0",
            "value": " 232k/232k [00:00&lt;00:00, 633kB/s]",
            "_view_count": null,
            "_view_module_version": "1.5.0",
            "description_tooltip": null,
            "_model_module": "@jupyter-widgets/controls",
            "layout": "IPY_MODEL_3c6ed7f0abde4cc5bd1c4d806e61dcf4"
          }
        },
        "c10d41fa454c454fbda5c8dd52f2d9a8": {
          "model_module": "@jupyter-widgets/controls",
          "model_name": "DescriptionStyleModel",
          "model_module_version": "1.5.0",
          "state": {
            "_view_name": "StyleView",
            "_model_name": "DescriptionStyleModel",
            "description_width": "",
            "_view_module": "@jupyter-widgets/base",
            "_model_module_version": "1.5.0",
            "_view_count": null,
            "_view_module_version": "1.2.0",
            "_model_module": "@jupyter-widgets/controls"
          }
        },
        "9083c14609f6419e8907603b3ca879a5": {
          "model_module": "@jupyter-widgets/base",
          "model_name": "LayoutModel",
          "model_module_version": "1.2.0",
          "state": {
            "_view_name": "LayoutView",
            "grid_template_rows": null,
            "right": null,
            "justify_content": null,
            "_view_module": "@jupyter-widgets/base",
            "overflow": null,
            "_model_module_version": "1.2.0",
            "_view_count": null,
            "flex_flow": null,
            "width": null,
            "min_width": null,
            "border": null,
            "align_items": null,
            "bottom": null,
            "_model_module": "@jupyter-widgets/base",
            "top": null,
            "grid_column": null,
            "overflow_y": null,
            "overflow_x": null,
            "grid_auto_flow": null,
            "grid_area": null,
            "grid_template_columns": null,
            "flex": null,
            "_model_name": "LayoutModel",
            "justify_items": null,
            "grid_row": null,
            "max_height": null,
            "align_content": null,
            "visibility": null,
            "align_self": null,
            "height": null,
            "min_height": null,
            "padding": null,
            "grid_auto_rows": null,
            "grid_gap": null,
            "max_width": null,
            "order": null,
            "_view_module_version": "1.2.0",
            "grid_template_areas": null,
            "object_position": null,
            "object_fit": null,
            "grid_auto_columns": null,
            "margin": null,
            "display": null,
            "left": null
          }
        },
        "3f699975d50e45fc8ef062f4103568d3": {
          "model_module": "@jupyter-widgets/controls",
          "model_name": "ProgressStyleModel",
          "model_module_version": "1.5.0",
          "state": {
            "_view_name": "StyleView",
            "_model_name": "ProgressStyleModel",
            "description_width": "",
            "_view_module": "@jupyter-widgets/base",
            "_model_module_version": "1.5.0",
            "_view_count": null,
            "_view_module_version": "1.2.0",
            "bar_color": null,
            "_model_module": "@jupyter-widgets/controls"
          }
        },
        "fa5bffff76894e2c86e729a5278f335a": {
          "model_module": "@jupyter-widgets/base",
          "model_name": "LayoutModel",
          "model_module_version": "1.2.0",
          "state": {
            "_view_name": "LayoutView",
            "grid_template_rows": null,
            "right": null,
            "justify_content": null,
            "_view_module": "@jupyter-widgets/base",
            "overflow": null,
            "_model_module_version": "1.2.0",
            "_view_count": null,
            "flex_flow": null,
            "width": null,
            "min_width": null,
            "border": null,
            "align_items": null,
            "bottom": null,
            "_model_module": "@jupyter-widgets/base",
            "top": null,
            "grid_column": null,
            "overflow_y": null,
            "overflow_x": null,
            "grid_auto_flow": null,
            "grid_area": null,
            "grid_template_columns": null,
            "flex": null,
            "_model_name": "LayoutModel",
            "justify_items": null,
            "grid_row": null,
            "max_height": null,
            "align_content": null,
            "visibility": null,
            "align_self": null,
            "height": null,
            "min_height": null,
            "padding": null,
            "grid_auto_rows": null,
            "grid_gap": null,
            "max_width": null,
            "order": null,
            "_view_module_version": "1.2.0",
            "grid_template_areas": null,
            "object_position": null,
            "object_fit": null,
            "grid_auto_columns": null,
            "margin": null,
            "display": null,
            "left": null
          }
        },
        "6cafc14608b0477b8812f2d4497f2412": {
          "model_module": "@jupyter-widgets/controls",
          "model_name": "DescriptionStyleModel",
          "model_module_version": "1.5.0",
          "state": {
            "_view_name": "StyleView",
            "_model_name": "DescriptionStyleModel",
            "description_width": "",
            "_view_module": "@jupyter-widgets/base",
            "_model_module_version": "1.5.0",
            "_view_count": null,
            "_view_module_version": "1.2.0",
            "_model_module": "@jupyter-widgets/controls"
          }
        },
        "3c6ed7f0abde4cc5bd1c4d806e61dcf4": {
          "model_module": "@jupyter-widgets/base",
          "model_name": "LayoutModel",
          "model_module_version": "1.2.0",
          "state": {
            "_view_name": "LayoutView",
            "grid_template_rows": null,
            "right": null,
            "justify_content": null,
            "_view_module": "@jupyter-widgets/base",
            "overflow": null,
            "_model_module_version": "1.2.0",
            "_view_count": null,
            "flex_flow": null,
            "width": null,
            "min_width": null,
            "border": null,
            "align_items": null,
            "bottom": null,
            "_model_module": "@jupyter-widgets/base",
            "top": null,
            "grid_column": null,
            "overflow_y": null,
            "overflow_x": null,
            "grid_auto_flow": null,
            "grid_area": null,
            "grid_template_columns": null,
            "flex": null,
            "_model_name": "LayoutModel",
            "justify_items": null,
            "grid_row": null,
            "max_height": null,
            "align_content": null,
            "visibility": null,
            "align_self": null,
            "height": null,
            "min_height": null,
            "padding": null,
            "grid_auto_rows": null,
            "grid_gap": null,
            "max_width": null,
            "order": null,
            "_view_module_version": "1.2.0",
            "grid_template_areas": null,
            "object_position": null,
            "object_fit": null,
            "grid_auto_columns": null,
            "margin": null,
            "display": null,
            "left": null
          }
        },
        "d451ef7948c04fa2882e1d151c4997a6": {
          "model_module": "@jupyter-widgets/controls",
          "model_name": "HBoxModel",
          "model_module_version": "1.5.0",
          "state": {
            "_view_name": "HBoxView",
            "_dom_classes": [],
            "_model_name": "HBoxModel",
            "_view_module": "@jupyter-widgets/controls",
            "_model_module_version": "1.5.0",
            "_view_count": null,
            "_view_module_version": "1.5.0",
            "box_style": "",
            "layout": "IPY_MODEL_650485c707fd41fd9cda5fd5a7aafe5f",
            "_model_module": "@jupyter-widgets/controls",
            "children": [
              "IPY_MODEL_c2f8c9a9631d490d98c25dfcd572bf7e",
              "IPY_MODEL_7a74159bca404c8fad610f0f6061b74e",
              "IPY_MODEL_e5af27254c6f4dbb929d5bca8c034e33"
            ]
          }
        },
        "650485c707fd41fd9cda5fd5a7aafe5f": {
          "model_module": "@jupyter-widgets/base",
          "model_name": "LayoutModel",
          "model_module_version": "1.2.0",
          "state": {
            "_view_name": "LayoutView",
            "grid_template_rows": null,
            "right": null,
            "justify_content": null,
            "_view_module": "@jupyter-widgets/base",
            "overflow": null,
            "_model_module_version": "1.2.0",
            "_view_count": null,
            "flex_flow": null,
            "width": null,
            "min_width": null,
            "border": null,
            "align_items": null,
            "bottom": null,
            "_model_module": "@jupyter-widgets/base",
            "top": null,
            "grid_column": null,
            "overflow_y": null,
            "overflow_x": null,
            "grid_auto_flow": null,
            "grid_area": null,
            "grid_template_columns": null,
            "flex": null,
            "_model_name": "LayoutModel",
            "justify_items": null,
            "grid_row": null,
            "max_height": null,
            "align_content": null,
            "visibility": null,
            "align_self": null,
            "height": null,
            "min_height": null,
            "padding": null,
            "grid_auto_rows": null,
            "grid_gap": null,
            "max_width": null,
            "order": null,
            "_view_module_version": "1.2.0",
            "grid_template_areas": null,
            "object_position": null,
            "object_fit": null,
            "grid_auto_columns": null,
            "margin": null,
            "display": null,
            "left": null
          }
        },
        "c2f8c9a9631d490d98c25dfcd572bf7e": {
          "model_module": "@jupyter-widgets/controls",
          "model_name": "HTMLModel",
          "model_module_version": "1.5.0",
          "state": {
            "_view_name": "HTMLView",
            "style": "IPY_MODEL_39abd1254658408fa54079209ece2633",
            "_dom_classes": [],
            "description": "",
            "_model_name": "HTMLModel",
            "placeholder": "​",
            "_view_module": "@jupyter-widgets/controls",
            "_model_module_version": "1.5.0",
            "value": "Downloading: 100%",
            "_view_count": null,
            "_view_module_version": "1.5.0",
            "description_tooltip": null,
            "_model_module": "@jupyter-widgets/controls",
            "layout": "IPY_MODEL_e17609d8dab8434b9fbc9cea6b8449d9"
          }
        },
        "7a74159bca404c8fad610f0f6061b74e": {
          "model_module": "@jupyter-widgets/controls",
          "model_name": "FloatProgressModel",
          "model_module_version": "1.5.0",
          "state": {
            "_view_name": "ProgressView",
            "style": "IPY_MODEL_cd07367bde49480480242e2b44a43956",
            "_dom_classes": [],
            "description": "",
            "_model_name": "FloatProgressModel",
            "bar_style": "success",
            "max": 483,
            "_view_module": "@jupyter-widgets/controls",
            "_model_module_version": "1.5.0",
            "value": 483,
            "_view_count": null,
            "_view_module_version": "1.5.0",
            "orientation": "horizontal",
            "min": 0,
            "description_tooltip": null,
            "_model_module": "@jupyter-widgets/controls",
            "layout": "IPY_MODEL_b9944053ae5c46b996190712e2ea8250"
          }
        },
        "e5af27254c6f4dbb929d5bca8c034e33": {
          "model_module": "@jupyter-widgets/controls",
          "model_name": "HTMLModel",
          "model_module_version": "1.5.0",
          "state": {
            "_view_name": "HTMLView",
            "style": "IPY_MODEL_c70f4076b27c4719a065cb5694d06021",
            "_dom_classes": [],
            "description": "",
            "_model_name": "HTMLModel",
            "placeholder": "​",
            "_view_module": "@jupyter-widgets/controls",
            "_model_module_version": "1.5.0",
            "value": " 483/483 [00:00&lt;00:00, 9.46kB/s]",
            "_view_count": null,
            "_view_module_version": "1.5.0",
            "description_tooltip": null,
            "_model_module": "@jupyter-widgets/controls",
            "layout": "IPY_MODEL_1d68743b89de43f2be4371670520467e"
          }
        },
        "39abd1254658408fa54079209ece2633": {
          "model_module": "@jupyter-widgets/controls",
          "model_name": "DescriptionStyleModel",
          "model_module_version": "1.5.0",
          "state": {
            "_view_name": "StyleView",
            "_model_name": "DescriptionStyleModel",
            "description_width": "",
            "_view_module": "@jupyter-widgets/base",
            "_model_module_version": "1.5.0",
            "_view_count": null,
            "_view_module_version": "1.2.0",
            "_model_module": "@jupyter-widgets/controls"
          }
        },
        "e17609d8dab8434b9fbc9cea6b8449d9": {
          "model_module": "@jupyter-widgets/base",
          "model_name": "LayoutModel",
          "model_module_version": "1.2.0",
          "state": {
            "_view_name": "LayoutView",
            "grid_template_rows": null,
            "right": null,
            "justify_content": null,
            "_view_module": "@jupyter-widgets/base",
            "overflow": null,
            "_model_module_version": "1.2.0",
            "_view_count": null,
            "flex_flow": null,
            "width": null,
            "min_width": null,
            "border": null,
            "align_items": null,
            "bottom": null,
            "_model_module": "@jupyter-widgets/base",
            "top": null,
            "grid_column": null,
            "overflow_y": null,
            "overflow_x": null,
            "grid_auto_flow": null,
            "grid_area": null,
            "grid_template_columns": null,
            "flex": null,
            "_model_name": "LayoutModel",
            "justify_items": null,
            "grid_row": null,
            "max_height": null,
            "align_content": null,
            "visibility": null,
            "align_self": null,
            "height": null,
            "min_height": null,
            "padding": null,
            "grid_auto_rows": null,
            "grid_gap": null,
            "max_width": null,
            "order": null,
            "_view_module_version": "1.2.0",
            "grid_template_areas": null,
            "object_position": null,
            "object_fit": null,
            "grid_auto_columns": null,
            "margin": null,
            "display": null,
            "left": null
          }
        },
        "cd07367bde49480480242e2b44a43956": {
          "model_module": "@jupyter-widgets/controls",
          "model_name": "ProgressStyleModel",
          "model_module_version": "1.5.0",
          "state": {
            "_view_name": "StyleView",
            "_model_name": "ProgressStyleModel",
            "description_width": "",
            "_view_module": "@jupyter-widgets/base",
            "_model_module_version": "1.5.0",
            "_view_count": null,
            "_view_module_version": "1.2.0",
            "bar_color": null,
            "_model_module": "@jupyter-widgets/controls"
          }
        },
        "b9944053ae5c46b996190712e2ea8250": {
          "model_module": "@jupyter-widgets/base",
          "model_name": "LayoutModel",
          "model_module_version": "1.2.0",
          "state": {
            "_view_name": "LayoutView",
            "grid_template_rows": null,
            "right": null,
            "justify_content": null,
            "_view_module": "@jupyter-widgets/base",
            "overflow": null,
            "_model_module_version": "1.2.0",
            "_view_count": null,
            "flex_flow": null,
            "width": null,
            "min_width": null,
            "border": null,
            "align_items": null,
            "bottom": null,
            "_model_module": "@jupyter-widgets/base",
            "top": null,
            "grid_column": null,
            "overflow_y": null,
            "overflow_x": null,
            "grid_auto_flow": null,
            "grid_area": null,
            "grid_template_columns": null,
            "flex": null,
            "_model_name": "LayoutModel",
            "justify_items": null,
            "grid_row": null,
            "max_height": null,
            "align_content": null,
            "visibility": null,
            "align_self": null,
            "height": null,
            "min_height": null,
            "padding": null,
            "grid_auto_rows": null,
            "grid_gap": null,
            "max_width": null,
            "order": null,
            "_view_module_version": "1.2.0",
            "grid_template_areas": null,
            "object_position": null,
            "object_fit": null,
            "grid_auto_columns": null,
            "margin": null,
            "display": null,
            "left": null
          }
        },
        "c70f4076b27c4719a065cb5694d06021": {
          "model_module": "@jupyter-widgets/controls",
          "model_name": "DescriptionStyleModel",
          "model_module_version": "1.5.0",
          "state": {
            "_view_name": "StyleView",
            "_model_name": "DescriptionStyleModel",
            "description_width": "",
            "_view_module": "@jupyter-widgets/base",
            "_model_module_version": "1.5.0",
            "_view_count": null,
            "_view_module_version": "1.2.0",
            "_model_module": "@jupyter-widgets/controls"
          }
        },
        "1d68743b89de43f2be4371670520467e": {
          "model_module": "@jupyter-widgets/base",
          "model_name": "LayoutModel",
          "model_module_version": "1.2.0",
          "state": {
            "_view_name": "LayoutView",
            "grid_template_rows": null,
            "right": null,
            "justify_content": null,
            "_view_module": "@jupyter-widgets/base",
            "overflow": null,
            "_model_module_version": "1.2.0",
            "_view_count": null,
            "flex_flow": null,
            "width": null,
            "min_width": null,
            "border": null,
            "align_items": null,
            "bottom": null,
            "_model_module": "@jupyter-widgets/base",
            "top": null,
            "grid_column": null,
            "overflow_y": null,
            "overflow_x": null,
            "grid_auto_flow": null,
            "grid_area": null,
            "grid_template_columns": null,
            "flex": null,
            "_model_name": "LayoutModel",
            "justify_items": null,
            "grid_row": null,
            "max_height": null,
            "align_content": null,
            "visibility": null,
            "align_self": null,
            "height": null,
            "min_height": null,
            "padding": null,
            "grid_auto_rows": null,
            "grid_gap": null,
            "max_width": null,
            "order": null,
            "_view_module_version": "1.2.0",
            "grid_template_areas": null,
            "object_position": null,
            "object_fit": null,
            "grid_auto_columns": null,
            "margin": null,
            "display": null,
            "left": null
          }
        }
      }
    }
  },
  "cells": [
    {
      "cell_type": "markdown",
      "source": [
        "# Bert Transfer Learning \n",
        "### Incorporated using Hugginface \n",
        "### Code was executed and ran in Google Colab "
      ],
      "metadata": {}
    },
    {
      "cell_type": "code",
      "execution_count": 1,
      "source": [
        "!pip install transformers==4.6.0\n",
        "!pip install datasets"
      ],
      "outputs": [
        {
          "output_type": "stream",
          "name": "stdout",
          "text": [
            "Collecting transformers==4.6.0\n",
            "  Downloading transformers-4.6.0-py3-none-any.whl (2.3 MB)\n",
            "\u001b[?25l\r\u001b[K     |▏                               | 10 kB 22.4 MB/s eta 0:00:01\r\u001b[K     |▎                               | 20 kB 26.3 MB/s eta 0:00:01\r\u001b[K     |▍                               | 30 kB 27.9 MB/s eta 0:00:01\r\u001b[K     |▋                               | 40 kB 21.9 MB/s eta 0:00:01\r\u001b[K     |▊                               | 51 kB 15.6 MB/s eta 0:00:01\r\u001b[K     |▉                               | 61 kB 11.5 MB/s eta 0:00:01\r\u001b[K     |█                               | 71 kB 12.3 MB/s eta 0:00:01\r\u001b[K     |█▏                              | 81 kB 13.4 MB/s eta 0:00:01\r\u001b[K     |█▎                              | 92 kB 11.8 MB/s eta 0:00:01\r\u001b[K     |█▍                              | 102 kB 12.6 MB/s eta 0:00:01\r\u001b[K     |█▌                              | 112 kB 12.6 MB/s eta 0:00:01\r\u001b[K     |█▊                              | 122 kB 12.6 MB/s eta 0:00:01\r\u001b[K     |█▉                              | 133 kB 12.6 MB/s eta 0:00:01\r\u001b[K     |██                              | 143 kB 12.6 MB/s eta 0:00:01\r\u001b[K     |██                              | 153 kB 12.6 MB/s eta 0:00:01\r\u001b[K     |██▎                             | 163 kB 12.6 MB/s eta 0:00:01\r\u001b[K     |██▍                             | 174 kB 12.6 MB/s eta 0:00:01\r\u001b[K     |██▌                             | 184 kB 12.6 MB/s eta 0:00:01\r\u001b[K     |██▋                             | 194 kB 12.6 MB/s eta 0:00:01\r\u001b[K     |██▉                             | 204 kB 12.6 MB/s eta 0:00:01\r\u001b[K     |███                             | 215 kB 12.6 MB/s eta 0:00:01\r\u001b[K     |███                             | 225 kB 12.6 MB/s eta 0:00:01\r\u001b[K     |███▎                            | 235 kB 12.6 MB/s eta 0:00:01\r\u001b[K     |███▍                            | 245 kB 12.6 MB/s eta 0:00:01\r\u001b[K     |███▌                            | 256 kB 12.6 MB/s eta 0:00:01\r\u001b[K     |███▋                            | 266 kB 12.6 MB/s eta 0:00:01\r\u001b[K     |███▉                            | 276 kB 12.6 MB/s eta 0:00:01\r\u001b[K     |████                            | 286 kB 12.6 MB/s eta 0:00:01\r\u001b[K     |████                            | 296 kB 12.6 MB/s eta 0:00:01\r\u001b[K     |████▏                           | 307 kB 12.6 MB/s eta 0:00:01\r\u001b[K     |████▍                           | 317 kB 12.6 MB/s eta 0:00:01\r\u001b[K     |████▌                           | 327 kB 12.6 MB/s eta 0:00:01\r\u001b[K     |████▋                           | 337 kB 12.6 MB/s eta 0:00:01\r\u001b[K     |████▊                           | 348 kB 12.6 MB/s eta 0:00:01\r\u001b[K     |█████                           | 358 kB 12.6 MB/s eta 0:00:01\r\u001b[K     |█████                           | 368 kB 12.6 MB/s eta 0:00:01\r\u001b[K     |█████▏                          | 378 kB 12.6 MB/s eta 0:00:01\r\u001b[K     |█████▎                          | 389 kB 12.6 MB/s eta 0:00:01\r\u001b[K     |█████▌                          | 399 kB 12.6 MB/s eta 0:00:01\r\u001b[K     |█████▋                          | 409 kB 12.6 MB/s eta 0:00:01\r\u001b[K     |█████▊                          | 419 kB 12.6 MB/s eta 0:00:01\r\u001b[K     |██████                          | 430 kB 12.6 MB/s eta 0:00:01\r\u001b[K     |██████                          | 440 kB 12.6 MB/s eta 0:00:01\r\u001b[K     |██████▏                         | 450 kB 12.6 MB/s eta 0:00:01\r\u001b[K     |██████▎                         | 460 kB 12.6 MB/s eta 0:00:01\r\u001b[K     |██████▌                         | 471 kB 12.6 MB/s eta 0:00:01\r\u001b[K     |██████▋                         | 481 kB 12.6 MB/s eta 0:00:01\r\u001b[K     |██████▊                         | 491 kB 12.6 MB/s eta 0:00:01\r\u001b[K     |██████▉                         | 501 kB 12.6 MB/s eta 0:00:01\r\u001b[K     |███████                         | 512 kB 12.6 MB/s eta 0:00:01\r\u001b[K     |███████▏                        | 522 kB 12.6 MB/s eta 0:00:01\r\u001b[K     |███████▎                        | 532 kB 12.6 MB/s eta 0:00:01\r\u001b[K     |███████▍                        | 542 kB 12.6 MB/s eta 0:00:01\r\u001b[K     |███████▋                        | 552 kB 12.6 MB/s eta 0:00:01\r\u001b[K     |███████▊                        | 563 kB 12.6 MB/s eta 0:00:01\r\u001b[K     |███████▉                        | 573 kB 12.6 MB/s eta 0:00:01\r\u001b[K     |████████                        | 583 kB 12.6 MB/s eta 0:00:01\r\u001b[K     |████████▏                       | 593 kB 12.6 MB/s eta 0:00:01\r\u001b[K     |████████▎                       | 604 kB 12.6 MB/s eta 0:00:01\r\u001b[K     |████████▍                       | 614 kB 12.6 MB/s eta 0:00:01\r\u001b[K     |████████▋                       | 624 kB 12.6 MB/s eta 0:00:01\r\u001b[K     |████████▊                       | 634 kB 12.6 MB/s eta 0:00:01\r\u001b[K     |████████▉                       | 645 kB 12.6 MB/s eta 0:00:01\r\u001b[K     |█████████                       | 655 kB 12.6 MB/s eta 0:00:01\r\u001b[K     |█████████▏                      | 665 kB 12.6 MB/s eta 0:00:01\r\u001b[K     |█████████▎                      | 675 kB 12.6 MB/s eta 0:00:01\r\u001b[K     |█████████▍                      | 686 kB 12.6 MB/s eta 0:00:01\r\u001b[K     |█████████▌                      | 696 kB 12.6 MB/s eta 0:00:01\r\u001b[K     |█████████▊                      | 706 kB 12.6 MB/s eta 0:00:01\r\u001b[K     |█████████▉                      | 716 kB 12.6 MB/s eta 0:00:01\r\u001b[K     |██████████                      | 727 kB 12.6 MB/s eta 0:00:01\r\u001b[K     |██████████                      | 737 kB 12.6 MB/s eta 0:00:01\r\u001b[K     |██████████▎                     | 747 kB 12.6 MB/s eta 0:00:01\r\u001b[K     |██████████▍                     | 757 kB 12.6 MB/s eta 0:00:01\r\u001b[K     |██████████▌                     | 768 kB 12.6 MB/s eta 0:00:01\r\u001b[K     |██████████▋                     | 778 kB 12.6 MB/s eta 0:00:01\r\u001b[K     |██████████▉                     | 788 kB 12.6 MB/s eta 0:00:01\r\u001b[K     |███████████                     | 798 kB 12.6 MB/s eta 0:00:01\r\u001b[K     |███████████                     | 808 kB 12.6 MB/s eta 0:00:01\r\u001b[K     |███████████▎                    | 819 kB 12.6 MB/s eta 0:00:01\r\u001b[K     |███████████▍                    | 829 kB 12.6 MB/s eta 0:00:01\r\u001b[K     |███████████▌                    | 839 kB 12.6 MB/s eta 0:00:01\r\u001b[K     |███████████▋                    | 849 kB 12.6 MB/s eta 0:00:01\r\u001b[K     |███████████▉                    | 860 kB 12.6 MB/s eta 0:00:01\r\u001b[K     |████████████                    | 870 kB 12.6 MB/s eta 0:00:01\r\u001b[K     |████████████                    | 880 kB 12.6 MB/s eta 0:00:01\r\u001b[K     |████████████▏                   | 890 kB 12.6 MB/s eta 0:00:01\r\u001b[K     |████████████▍                   | 901 kB 12.6 MB/s eta 0:00:01\r\u001b[K     |████████████▌                   | 911 kB 12.6 MB/s eta 0:00:01\r\u001b[K     |████████████▋                   | 921 kB 12.6 MB/s eta 0:00:01\r\u001b[K     |████████████▊                   | 931 kB 12.6 MB/s eta 0:00:01\r\u001b[K     |█████████████                   | 942 kB 12.6 MB/s eta 0:00:01\r\u001b[K     |█████████████                   | 952 kB 12.6 MB/s eta 0:00:01\r\u001b[K     |█████████████▏                  | 962 kB 12.6 MB/s eta 0:00:01\r\u001b[K     |█████████████▎                  | 972 kB 12.6 MB/s eta 0:00:01\r\u001b[K     |█████████████▌                  | 983 kB 12.6 MB/s eta 0:00:01\r\u001b[K     |█████████████▋                  | 993 kB 12.6 MB/s eta 0:00:01\r\u001b[K     |█████████████▊                  | 1.0 MB 12.6 MB/s eta 0:00:01\r\u001b[K     |██████████████                  | 1.0 MB 12.6 MB/s eta 0:00:01\r\u001b[K     |██████████████                  | 1.0 MB 12.6 MB/s eta 0:00:01\r\u001b[K     |██████████████▏                 | 1.0 MB 12.6 MB/s eta 0:00:01\r\u001b[K     |██████████████▎                 | 1.0 MB 12.6 MB/s eta 0:00:01\r\u001b[K     |██████████████▌                 | 1.1 MB 12.6 MB/s eta 0:00:01\r\u001b[K     |██████████████▋                 | 1.1 MB 12.6 MB/s eta 0:00:01\r\u001b[K     |██████████████▊                 | 1.1 MB 12.6 MB/s eta 0:00:01\r\u001b[K     |██████████████▉                 | 1.1 MB 12.6 MB/s eta 0:00:01\r\u001b[K     |███████████████                 | 1.1 MB 12.6 MB/s eta 0:00:01\r\u001b[K     |███████████████▏                | 1.1 MB 12.6 MB/s eta 0:00:01\r\u001b[K     |███████████████▎                | 1.1 MB 12.6 MB/s eta 0:00:01\r\u001b[K     |███████████████▍                | 1.1 MB 12.6 MB/s eta 0:00:01\r\u001b[K     |███████████████▋                | 1.1 MB 12.6 MB/s eta 0:00:01\r\u001b[K     |███████████████▊                | 1.1 MB 12.6 MB/s eta 0:00:01\r\u001b[K     |███████████████▉                | 1.2 MB 12.6 MB/s eta 0:00:01\r\u001b[K     |████████████████                | 1.2 MB 12.6 MB/s eta 0:00:01\r\u001b[K     |████████████████▏               | 1.2 MB 12.6 MB/s eta 0:00:01\r\u001b[K     |████████████████▎               | 1.2 MB 12.6 MB/s eta 0:00:01\r\u001b[K     |████████████████▍               | 1.2 MB 12.6 MB/s eta 0:00:01\r\u001b[K     |████████████████▋               | 1.2 MB 12.6 MB/s eta 0:00:01\r\u001b[K     |████████████████▊               | 1.2 MB 12.6 MB/s eta 0:00:01\r\u001b[K     |████████████████▉               | 1.2 MB 12.6 MB/s eta 0:00:01\r\u001b[K     |█████████████████               | 1.2 MB 12.6 MB/s eta 0:00:01\r\u001b[K     |█████████████████▏              | 1.2 MB 12.6 MB/s eta 0:00:01\r\u001b[K     |█████████████████▎              | 1.3 MB 12.6 MB/s eta 0:00:01\r\u001b[K     |█████████████████▍              | 1.3 MB 12.6 MB/s eta 0:00:01\r\u001b[K     |█████████████████▌              | 1.3 MB 12.6 MB/s eta 0:00:01\r\u001b[K     |█████████████████▊              | 1.3 MB 12.6 MB/s eta 0:00:01\r\u001b[K     |█████████████████▉              | 1.3 MB 12.6 MB/s eta 0:00:01\r\u001b[K     |██████████████████              | 1.3 MB 12.6 MB/s eta 0:00:01\r\u001b[K     |██████████████████              | 1.3 MB 12.6 MB/s eta 0:00:01\r\u001b[K     |██████████████████▎             | 1.3 MB 12.6 MB/s eta 0:00:01\r\u001b[K     |██████████████████▍             | 1.3 MB 12.6 MB/s eta 0:00:01\r\u001b[K     |██████████████████▌             | 1.4 MB 12.6 MB/s eta 0:00:01\r\u001b[K     |██████████████████▋             | 1.4 MB 12.6 MB/s eta 0:00:01\r\u001b[K     |██████████████████▉             | 1.4 MB 12.6 MB/s eta 0:00:01\r\u001b[K     |███████████████████             | 1.4 MB 12.6 MB/s eta 0:00:01\r\u001b[K     |███████████████████             | 1.4 MB 12.6 MB/s eta 0:00:01\r\u001b[K     |███████████████████▎            | 1.4 MB 12.6 MB/s eta 0:00:01\r\u001b[K     |███████████████████▍            | 1.4 MB 12.6 MB/s eta 0:00:01\r\u001b[K     |███████████████████▌            | 1.4 MB 12.6 MB/s eta 0:00:01\r\u001b[K     |███████████████████▋            | 1.4 MB 12.6 MB/s eta 0:00:01\r\u001b[K     |███████████████████▉            | 1.4 MB 12.6 MB/s eta 0:00:01\r\u001b[K     |████████████████████            | 1.5 MB 12.6 MB/s eta 0:00:01\r\u001b[K     |████████████████████            | 1.5 MB 12.6 MB/s eta 0:00:01\r\u001b[K     |████████████████████▏           | 1.5 MB 12.6 MB/s eta 0:00:01\r\u001b[K     |████████████████████▍           | 1.5 MB 12.6 MB/s eta 0:00:01\r\u001b[K     |████████████████████▌           | 1.5 MB 12.6 MB/s eta 0:00:01\r\u001b[K     |████████████████████▋           | 1.5 MB 12.6 MB/s eta 0:00:01\r\u001b[K     |████████████████████▊           | 1.5 MB 12.6 MB/s eta 0:00:01\r\u001b[K     |█████████████████████           | 1.5 MB 12.6 MB/s eta 0:00:01\r\u001b[K     |█████████████████████           | 1.5 MB 12.6 MB/s eta 0:00:01\r\u001b[K     |█████████████████████▏          | 1.5 MB 12.6 MB/s eta 0:00:01\r\u001b[K     |█████████████████████▎          | 1.6 MB 12.6 MB/s eta 0:00:01\r\u001b[K     |█████████████████████▌          | 1.6 MB 12.6 MB/s eta 0:00:01\r\u001b[K     |█████████████████████▋          | 1.6 MB 12.6 MB/s eta 0:00:01\r\u001b[K     |█████████████████████▊          | 1.6 MB 12.6 MB/s eta 0:00:01\r\u001b[K     |█████████████████████▉          | 1.6 MB 12.6 MB/s eta 0:00:01\r\u001b[K     |██████████████████████          | 1.6 MB 12.6 MB/s eta 0:00:01\r\u001b[K     |██████████████████████▏         | 1.6 MB 12.6 MB/s eta 0:00:01\r\u001b[K     |██████████████████████▎         | 1.6 MB 12.6 MB/s eta 0:00:01\r\u001b[K     |██████████████████████▌         | 1.6 MB 12.6 MB/s eta 0:00:01\r\u001b[K     |██████████████████████▋         | 1.6 MB 12.6 MB/s eta 0:00:01\r\u001b[K     |██████████████████████▊         | 1.7 MB 12.6 MB/s eta 0:00:01\r\u001b[K     |██████████████████████▉         | 1.7 MB 12.6 MB/s eta 0:00:01\r\u001b[K     |███████████████████████         | 1.7 MB 12.6 MB/s eta 0:00:01\r\u001b[K     |███████████████████████▏        | 1.7 MB 12.6 MB/s eta 0:00:01\r\u001b[K     |███████████████████████▎        | 1.7 MB 12.6 MB/s eta 0:00:01\r\u001b[K     |███████████████████████▍        | 1.7 MB 12.6 MB/s eta 0:00:01\r\u001b[K     |███████████████████████▋        | 1.7 MB 12.6 MB/s eta 0:00:01\r\u001b[K     |███████████████████████▊        | 1.7 MB 12.6 MB/s eta 0:00:01\r\u001b[K     |███████████████████████▉        | 1.7 MB 12.6 MB/s eta 0:00:01\r\u001b[K     |████████████████████████        | 1.8 MB 12.6 MB/s eta 0:00:01\r\u001b[K     |████████████████████████▏       | 1.8 MB 12.6 MB/s eta 0:00:01\r\u001b[K     |████████████████████████▎       | 1.8 MB 12.6 MB/s eta 0:00:01\r\u001b[K     |████████████████████████▍       | 1.8 MB 12.6 MB/s eta 0:00:01\r\u001b[K     |████████████████████████▌       | 1.8 MB 12.6 MB/s eta 0:00:01\r\u001b[K     |████████████████████████▊       | 1.8 MB 12.6 MB/s eta 0:00:01\r\u001b[K     |████████████████████████▉       | 1.8 MB 12.6 MB/s eta 0:00:01\r\u001b[K     |█████████████████████████       | 1.8 MB 12.6 MB/s eta 0:00:01\r\u001b[K     |█████████████████████████▏      | 1.8 MB 12.6 MB/s eta 0:00:01\r\u001b[K     |█████████████████████████▎      | 1.8 MB 12.6 MB/s eta 0:00:01\r\u001b[K     |█████████████████████████▍      | 1.9 MB 12.6 MB/s eta 0:00:01\r\u001b[K     |█████████████████████████▌      | 1.9 MB 12.6 MB/s eta 0:00:01\r\u001b[K     |█████████████████████████▊      | 1.9 MB 12.6 MB/s eta 0:00:01\r\u001b[K     |█████████████████████████▉      | 1.9 MB 12.6 MB/s eta 0:00:01\r\u001b[K     |██████████████████████████      | 1.9 MB 12.6 MB/s eta 0:00:01\r\u001b[K     |██████████████████████████      | 1.9 MB 12.6 MB/s eta 0:00:01\r\u001b[K     |██████████████████████████▎     | 1.9 MB 12.6 MB/s eta 0:00:01\r\u001b[K     |██████████████████████████▍     | 1.9 MB 12.6 MB/s eta 0:00:01\r\u001b[K     |██████████████████████████▌     | 1.9 MB 12.6 MB/s eta 0:00:01\r\u001b[K     |██████████████████████████▋     | 1.9 MB 12.6 MB/s eta 0:00:01\r\u001b[K     |██████████████████████████▉     | 2.0 MB 12.6 MB/s eta 0:00:01\r\u001b[K     |███████████████████████████     | 2.0 MB 12.6 MB/s eta 0:00:01\r\u001b[K     |███████████████████████████     | 2.0 MB 12.6 MB/s eta 0:00:01\r\u001b[K     |███████████████████████████▏    | 2.0 MB 12.6 MB/s eta 0:00:01\r\u001b[K     |███████████████████████████▍    | 2.0 MB 12.6 MB/s eta 0:00:01\r\u001b[K     |███████████████████████████▌    | 2.0 MB 12.6 MB/s eta 0:00:01\r\u001b[K     |███████████████████████████▋    | 2.0 MB 12.6 MB/s eta 0:00:01\r\u001b[K     |███████████████████████████▉    | 2.0 MB 12.6 MB/s eta 0:00:01\r\u001b[K     |████████████████████████████    | 2.0 MB 12.6 MB/s eta 0:00:01\r\u001b[K     |████████████████████████████    | 2.0 MB 12.6 MB/s eta 0:00:01\r\u001b[K     |████████████████████████████▏   | 2.1 MB 12.6 MB/s eta 0:00:01\r\u001b[K     |████████████████████████████▍   | 2.1 MB 12.6 MB/s eta 0:00:01\r\u001b[K     |████████████████████████████▌   | 2.1 MB 12.6 MB/s eta 0:00:01\r\u001b[K     |████████████████████████████▋   | 2.1 MB 12.6 MB/s eta 0:00:01\r\u001b[K     |████████████████████████████▊   | 2.1 MB 12.6 MB/s eta 0:00:01\r\u001b[K     |█████████████████████████████   | 2.1 MB 12.6 MB/s eta 0:00:01\r\u001b[K     |█████████████████████████████   | 2.1 MB 12.6 MB/s eta 0:00:01\r\u001b[K     |█████████████████████████████▏  | 2.1 MB 12.6 MB/s eta 0:00:01\r\u001b[K     |█████████████████████████████▎  | 2.1 MB 12.6 MB/s eta 0:00:01\r\u001b[K     |█████████████████████████████▌  | 2.2 MB 12.6 MB/s eta 0:00:01\r\u001b[K     |█████████████████████████████▋  | 2.2 MB 12.6 MB/s eta 0:00:01\r\u001b[K     |█████████████████████████████▊  | 2.2 MB 12.6 MB/s eta 0:00:01\r\u001b[K     |█████████████████████████████▉  | 2.2 MB 12.6 MB/s eta 0:00:01\r\u001b[K     |██████████████████████████████  | 2.2 MB 12.6 MB/s eta 0:00:01\r\u001b[K     |██████████████████████████████▏ | 2.2 MB 12.6 MB/s eta 0:00:01\r\u001b[K     |██████████████████████████████▎ | 2.2 MB 12.6 MB/s eta 0:00:01\r\u001b[K     |██████████████████████████████▌ | 2.2 MB 12.6 MB/s eta 0:00:01\r\u001b[K     |██████████████████████████████▋ | 2.2 MB 12.6 MB/s eta 0:00:01\r\u001b[K     |██████████████████████████████▊ | 2.2 MB 12.6 MB/s eta 0:00:01\r\u001b[K     |██████████████████████████████▉ | 2.3 MB 12.6 MB/s eta 0:00:01\r\u001b[K     |███████████████████████████████ | 2.3 MB 12.6 MB/s eta 0:00:01\r\u001b[K     |███████████████████████████████▏| 2.3 MB 12.6 MB/s eta 0:00:01\r\u001b[K     |███████████████████████████████▎| 2.3 MB 12.6 MB/s eta 0:00:01\r\u001b[K     |███████████████████████████████▍| 2.3 MB 12.6 MB/s eta 0:00:01\r\u001b[K     |███████████████████████████████▋| 2.3 MB 12.6 MB/s eta 0:00:01\r\u001b[K     |███████████████████████████████▊| 2.3 MB 12.6 MB/s eta 0:00:01\r\u001b[K     |███████████████████████████████▉| 2.3 MB 12.6 MB/s eta 0:00:01\r\u001b[K     |████████████████████████████████| 2.3 MB 12.6 MB/s eta 0:00:01\r\u001b[K     |████████████████████████████████| 2.3 MB 12.6 MB/s \n",
            "\u001b[?25hRequirement already satisfied: tqdm>=4.27 in /usr/local/lib/python3.7/dist-packages (from transformers==4.6.0) (4.62.3)\n",
            "Collecting tokenizers<0.11,>=0.10.1\n",
            "  Downloading tokenizers-0.10.3-cp37-cp37m-manylinux_2_5_x86_64.manylinux1_x86_64.manylinux_2_12_x86_64.manylinux2010_x86_64.whl (3.3 MB)\n",
            "\u001b[K     |████████████████████████████████| 3.3 MB 33.2 MB/s \n",
            "\u001b[?25hCollecting sacremoses\n",
            "  Downloading sacremoses-0.0.46-py3-none-any.whl (895 kB)\n",
            "\u001b[K     |████████████████████████████████| 895 kB 43.8 MB/s \n",
            "\u001b[?25hRequirement already satisfied: regex!=2019.12.17 in /usr/local/lib/python3.7/dist-packages (from transformers==4.6.0) (2019.12.20)\n",
            "Requirement already satisfied: importlib-metadata in /usr/local/lib/python3.7/dist-packages (from transformers==4.6.0) (4.8.1)\n",
            "Collecting huggingface-hub==0.0.8\n",
            "  Downloading huggingface_hub-0.0.8-py3-none-any.whl (34 kB)\n",
            "Requirement already satisfied: packaging in /usr/local/lib/python3.7/dist-packages (from transformers==4.6.0) (21.0)\n",
            "Requirement already satisfied: numpy>=1.17 in /usr/local/lib/python3.7/dist-packages (from transformers==4.6.0) (1.19.5)\n",
            "Requirement already satisfied: requests in /usr/local/lib/python3.7/dist-packages (from transformers==4.6.0) (2.23.0)\n",
            "Requirement already satisfied: filelock in /usr/local/lib/python3.7/dist-packages (from transformers==4.6.0) (3.3.0)\n",
            "Requirement already satisfied: zipp>=0.5 in /usr/local/lib/python3.7/dist-packages (from importlib-metadata->transformers==4.6.0) (3.6.0)\n",
            "Requirement already satisfied: typing-extensions>=3.6.4 in /usr/local/lib/python3.7/dist-packages (from importlib-metadata->transformers==4.6.0) (3.7.4.3)\n",
            "Requirement already satisfied: pyparsing>=2.0.2 in /usr/local/lib/python3.7/dist-packages (from packaging->transformers==4.6.0) (2.4.7)\n",
            "Requirement already satisfied: idna<3,>=2.5 in /usr/local/lib/python3.7/dist-packages (from requests->transformers==4.6.0) (2.10)\n",
            "Requirement already satisfied: certifi>=2017.4.17 in /usr/local/lib/python3.7/dist-packages (from requests->transformers==4.6.0) (2021.5.30)\n",
            "Requirement already satisfied: urllib3!=1.25.0,!=1.25.1,<1.26,>=1.21.1 in /usr/local/lib/python3.7/dist-packages (from requests->transformers==4.6.0) (1.24.3)\n",
            "Requirement already satisfied: chardet<4,>=3.0.2 in /usr/local/lib/python3.7/dist-packages (from requests->transformers==4.6.0) (3.0.4)\n",
            "Requirement already satisfied: click in /usr/local/lib/python3.7/dist-packages (from sacremoses->transformers==4.6.0) (7.1.2)\n",
            "Requirement already satisfied: six in /usr/local/lib/python3.7/dist-packages (from sacremoses->transformers==4.6.0) (1.15.0)\n",
            "Requirement already satisfied: joblib in /usr/local/lib/python3.7/dist-packages (from sacremoses->transformers==4.6.0) (1.0.1)\n",
            "Installing collected packages: tokenizers, sacremoses, huggingface-hub, transformers\n",
            "Successfully installed huggingface-hub-0.0.8 sacremoses-0.0.46 tokenizers-0.10.3 transformers-4.6.0\n",
            "Collecting datasets\n",
            "  Downloading datasets-1.12.1-py3-none-any.whl (270 kB)\n",
            "\u001b[K     |████████████████████████████████| 270 kB 11.7 MB/s \n",
            "\u001b[?25hCollecting fsspec[http]>=2021.05.0\n",
            "  Downloading fsspec-2021.10.0-py3-none-any.whl (125 kB)\n",
            "\u001b[K     |████████████████████████████████| 125 kB 48.8 MB/s \n",
            "\u001b[?25hCollecting aiohttp\n",
            "  Downloading aiohttp-3.7.4.post0-cp37-cp37m-manylinux2014_x86_64.whl (1.3 MB)\n",
            "\u001b[K     |████████████████████████████████| 1.3 MB 49.6 MB/s \n",
            "\u001b[?25hRequirement already satisfied: multiprocess in /usr/local/lib/python3.7/dist-packages (from datasets) (0.70.12.2)\n",
            "Requirement already satisfied: packaging in /usr/local/lib/python3.7/dist-packages (from datasets) (21.0)\n",
            "Requirement already satisfied: pyarrow!=4.0.0,>=1.0.0 in /usr/local/lib/python3.7/dist-packages (from datasets) (3.0.0)\n",
            "Requirement already satisfied: importlib-metadata in /usr/local/lib/python3.7/dist-packages (from datasets) (4.8.1)\n",
            "Requirement already satisfied: tqdm>=4.62.1 in /usr/local/lib/python3.7/dist-packages (from datasets) (4.62.3)\n",
            "Requirement already satisfied: pandas in /usr/local/lib/python3.7/dist-packages (from datasets) (1.1.5)\n",
            "Collecting xxhash\n",
            "  Downloading xxhash-2.0.2-cp37-cp37m-manylinux2010_x86_64.whl (243 kB)\n",
            "\u001b[K     |████████████████████████████████| 243 kB 45.6 MB/s \n",
            "\u001b[?25hRequirement already satisfied: dill in /usr/local/lib/python3.7/dist-packages (from datasets) (0.3.4)\n",
            "Collecting huggingface-hub<0.1.0,>=0.0.14\n",
            "  Downloading huggingface_hub-0.0.19-py3-none-any.whl (56 kB)\n",
            "\u001b[K     |████████████████████████████████| 56 kB 4.2 MB/s \n",
            "\u001b[?25hRequirement already satisfied: numpy>=1.17 in /usr/local/lib/python3.7/dist-packages (from datasets) (1.19.5)\n",
            "Requirement already satisfied: requests>=2.19.0 in /usr/local/lib/python3.7/dist-packages (from datasets) (2.23.0)\n",
            "Requirement already satisfied: typing-extensions in /usr/local/lib/python3.7/dist-packages (from huggingface-hub<0.1.0,>=0.0.14->datasets) (3.7.4.3)\n",
            "Requirement already satisfied: pyyaml in /usr/local/lib/python3.7/dist-packages (from huggingface-hub<0.1.0,>=0.0.14->datasets) (3.13)\n",
            "Requirement already satisfied: filelock in /usr/local/lib/python3.7/dist-packages (from huggingface-hub<0.1.0,>=0.0.14->datasets) (3.3.0)\n",
            "Requirement already satisfied: pyparsing>=2.0.2 in /usr/local/lib/python3.7/dist-packages (from packaging->datasets) (2.4.7)\n",
            "Requirement already satisfied: idna<3,>=2.5 in /usr/local/lib/python3.7/dist-packages (from requests>=2.19.0->datasets) (2.10)\n",
            "Requirement already satisfied: chardet<4,>=3.0.2 in /usr/local/lib/python3.7/dist-packages (from requests>=2.19.0->datasets) (3.0.4)\n",
            "Requirement already satisfied: urllib3!=1.25.0,!=1.25.1,<1.26,>=1.21.1 in /usr/local/lib/python3.7/dist-packages (from requests>=2.19.0->datasets) (1.24.3)\n",
            "Requirement already satisfied: certifi>=2017.4.17 in /usr/local/lib/python3.7/dist-packages (from requests>=2.19.0->datasets) (2021.5.30)\n",
            "Collecting multidict<7.0,>=4.5\n",
            "  Downloading multidict-5.2.0-cp37-cp37m-manylinux_2_5_x86_64.manylinux1_x86_64.manylinux_2_12_x86_64.manylinux2010_x86_64.whl (160 kB)\n",
            "\u001b[K     |████████████████████████████████| 160 kB 44.9 MB/s \n",
            "\u001b[?25hRequirement already satisfied: attrs>=17.3.0 in /usr/local/lib/python3.7/dist-packages (from aiohttp->datasets) (21.2.0)\n",
            "Collecting async-timeout<4.0,>=3.0\n",
            "  Downloading async_timeout-3.0.1-py3-none-any.whl (8.2 kB)\n",
            "Collecting yarl<2.0,>=1.0\n",
            "  Downloading yarl-1.7.0-cp37-cp37m-manylinux_2_5_x86_64.manylinux1_x86_64.manylinux_2_12_x86_64.manylinux2010_x86_64.whl (271 kB)\n",
            "\u001b[K     |████████████████████████████████| 271 kB 49.3 MB/s \n",
            "\u001b[?25hRequirement already satisfied: zipp>=0.5 in /usr/local/lib/python3.7/dist-packages (from importlib-metadata->datasets) (3.6.0)\n",
            "Requirement already satisfied: pytz>=2017.2 in /usr/local/lib/python3.7/dist-packages (from pandas->datasets) (2018.9)\n",
            "Requirement already satisfied: python-dateutil>=2.7.3 in /usr/local/lib/python3.7/dist-packages (from pandas->datasets) (2.8.2)\n",
            "Requirement already satisfied: six>=1.5 in /usr/local/lib/python3.7/dist-packages (from python-dateutil>=2.7.3->pandas->datasets) (1.15.0)\n",
            "Installing collected packages: multidict, yarl, async-timeout, fsspec, aiohttp, xxhash, huggingface-hub, datasets\n",
            "  Attempting uninstall: huggingface-hub\n",
            "    Found existing installation: huggingface-hub 0.0.8\n",
            "    Uninstalling huggingface-hub-0.0.8:\n",
            "      Successfully uninstalled huggingface-hub-0.0.8\n",
            "\u001b[31mERROR: pip's dependency resolver does not currently take into account all the packages that are installed. This behaviour is the source of the following dependency conflicts.\n",
            "transformers 4.6.0 requires huggingface-hub==0.0.8, but you have huggingface-hub 0.0.19 which is incompatible.\u001b[0m\n",
            "Successfully installed aiohttp-3.7.4.post0 async-timeout-3.0.1 datasets-1.12.1 fsspec-2021.10.0 huggingface-hub-0.0.19 multidict-5.2.0 xxhash-2.0.2 yarl-1.7.0\n"
          ]
        }
      ],
      "metadata": {
        "colab": {
          "base_uri": "https://localhost:8080/"
        },
        "id": "xWmwUKCWASbO",
        "outputId": "744d82a9-ce2b-455e-d888-d0945b267c1c"
      }
    },
    {
      "cell_type": "code",
      "execution_count": 2,
      "source": [
        "from tensorflow import keras\n",
        "import tensorflow as tf\n",
        "from transformers.file_utils import is_tf_available, is_torch_available, is_torch_tpu_available\n",
        "from transformers import BertTokenizerFast, BertForSequenceClassification,TFAutoModelForSequenceClassification,TFGPT2ForSequenceClassification,GPT2TokenizerFast,GPT2Config,DistilBertTokenizer,TFTrainer,TFTrainingArguments\n",
        "from transformers import Trainer, TrainingArguments\n",
        "import numpy as np\n",
        "import random\n",
        "from sklearn.datasets import fetch_20newsgroups\n",
        "from sklearn.model_selection import train_test_split\n",
        "from datasets import load_dataset\n",
        "from sklearn.metrics import accuracy_score\n",
        "max_length = 150\n"
      ],
      "outputs": [],
      "metadata": {
        "id": "Fpw7F9mJQjrq"
      }
    },
    {
      "cell_type": "markdown",
      "source": [
        "Bert was chosen as pretrained model and will now be fine-tuned"
      ],
      "metadata": {
        "id": "6P1UZnZuJAMv"
      }
    },
    {
      "cell_type": "code",
      "execution_count": 3,
      "source": [
        "\n",
        "from transformers import TFDistilBertForSequenceClassification, DistilBertConfig\n",
        "import tensorflow as tf\n",
        "\n",
        "distil_bert = 'distilbert-base-uncased'\n",
        "tokenizer = DistilBertTokenizer.from_pretrained(distil_bert, do_lower_case=True, add_special_tokens=True,max_length=max_length, pad_to_max_length=True)\n",
        "tokenizer.pad_token = \"[PAD]\"\n",
        "config = DistilBertConfig(num_labels=2)\n",
        "config.output_hidden_states = False\n"
      ],
      "outputs": [
        {
          "output_type": "display_data",
          "data": {
            "application/vnd.jupyter.widget-view+json": {
              "model_id": "9b428e5fd6114a6294e7ea5be886ff29",
              "version_minor": 0,
              "version_major": 2
            },
            "text/plain": [
              "Downloading:   0%|          | 0.00/232k [00:00<?, ?B/s]"
            ]
          },
          "metadata": {}
        },
        {
          "output_type": "display_data",
          "data": {
            "application/vnd.jupyter.widget-view+json": {
              "model_id": "f3416b7b2f2d4fe5b8f11d13abc7b966",
              "version_minor": 0,
              "version_major": 2
            },
            "text/plain": [
              "Downloading:   0%|          | 0.00/28.0 [00:00<?, ?B/s]"
            ]
          },
          "metadata": {}
        },
        {
          "output_type": "display_data",
          "data": {
            "application/vnd.jupyter.widget-view+json": {
              "model_id": "d850a8f3d7924b5b9a25ab8d550b974d",
              "version_minor": 0,
              "version_major": 2
            },
            "text/plain": [
              "Downloading:   0%|          | 0.00/466k [00:00<?, ?B/s]"
            ]
          },
          "metadata": {}
        }
      ],
      "metadata": {
        "colab": {
          "base_uri": "https://localhost:8080/",
          "height": 113,
          "referenced_widgets": [
            "9b428e5fd6114a6294e7ea5be886ff29",
            "54721457e5bb4aef8029933fbc667fa7",
            "d910809cc29144f393d7542915d0b5c4",
            "548dd00caff54498b8f1bb192be855f7",
            "694317c6a7964f9f88511a9ef9668ac6",
            "c10d41fa454c454fbda5c8dd52f2d9a8",
            "9083c14609f6419e8907603b3ca879a5",
            "3f699975d50e45fc8ef062f4103568d3",
            "fa5bffff76894e2c86e729a5278f335a",
            "6cafc14608b0477b8812f2d4497f2412",
            "3c6ed7f0abde4cc5bd1c4d806e61dcf4"
          ]
        },
        "id": "68kzRvVxQHYF",
        "outputId": "8b3b5012-fda4-4b67-9ff3-76715edcce68"
      }
    },
    {
      "cell_type": "code",
      "execution_count": 4,
      "source": [
        "def create_splits(data,test_size=0.2):\n",
        "  text = data['text']\n",
        "  labels = data['out']\n",
        "  return train_test_split(text,labels,test_size = test_size)\n",
        "\n",
        "data = load_dataset('csv', data_files='/content/modeling_data.csv')\n",
        "(train_texts,test_texts, train_labels,test_labels)= create_splits(data['train'])\n",
        "train_encodings = tokenizer(train_texts, truncation=True, padding=True, max_length=max_length)\n",
        "train_dataset = tf.data.Dataset.from_tensor_slices((dict(train_encodings),train_labels))"
      ],
      "outputs": [
        {
          "output_type": "stream",
          "name": "stderr",
          "text": [
            "Using custom data configuration default-564265955e6db201\n"
          ]
        },
        {
          "output_type": "stream",
          "name": "stdout",
          "text": [
            "Downloading and preparing dataset csv/default to /root/.cache/huggingface/datasets/csv/default-564265955e6db201/0.0.0/9144e0a4e8435090117cea53e6c7537173ef2304525df4a077c435d8ee7828ff...\n"
          ]
        },
        {
          "output_type": "display_data",
          "data": {
            "application/vnd.jupyter.widget-view+json": {
              "model_id": "36259359c8d64586bc863a6643f974fd",
              "version_minor": 0,
              "version_major": 2
            },
            "text/plain": [
              "  0%|          | 0/1 [00:00<?, ?it/s]"
            ]
          },
          "metadata": {}
        },
        {
          "output_type": "display_data",
          "data": {
            "application/vnd.jupyter.widget-view+json": {
              "model_id": "bae2e9e4f8444a5492314f39deed08a2",
              "version_minor": 0,
              "version_major": 2
            },
            "text/plain": [
              "  0%|          | 0/1 [00:00<?, ?it/s]"
            ]
          },
          "metadata": {}
        },
        {
          "output_type": "display_data",
          "data": {
            "application/vnd.jupyter.widget-view+json": {
              "model_id": "04f5db5872d7415790a55cbd083d2d53",
              "version_minor": 0,
              "version_major": 2
            },
            "text/plain": [
              "0 tables [00:00, ? tables/s]"
            ]
          },
          "metadata": {}
        },
        {
          "output_type": "stream",
          "name": "stdout",
          "text": [
            "Dataset csv downloaded and prepared to /root/.cache/huggingface/datasets/csv/default-564265955e6db201/0.0.0/9144e0a4e8435090117cea53e6c7537173ef2304525df4a077c435d8ee7828ff. Subsequent calls will reuse this data.\n"
          ]
        },
        {
          "output_type": "display_data",
          "data": {
            "application/vnd.jupyter.widget-view+json": {
              "model_id": "02341c84cf9a40fbacd7365305d5766f",
              "version_minor": 0,
              "version_major": 2
            },
            "text/plain": [
              "  0%|          | 0/1 [00:00<?, ?it/s]"
            ]
          },
          "metadata": {}
        }
      ],
      "metadata": {
        "colab": {
          "base_uri": "https://localhost:8080/",
          "height": 184
        },
        "id": "NAqf7EyNQ2XM",
        "outputId": "03514f68-c383-49b6-b934-65aaae626262"
      }
    },
    {
      "cell_type": "code",
      "execution_count": 5,
      "source": [
        "model = TFDistilBertForSequenceClassification.from_pretrained('distilbert-base-uncased')\n",
        "model.summary()"
      ],
      "outputs": [
        {
          "output_type": "display_data",
          "data": {
            "application/vnd.jupyter.widget-view+json": {
              "model_id": "d451ef7948c04fa2882e1d151c4997a6",
              "version_minor": 0,
              "version_major": 2
            },
            "text/plain": [
              "Downloading:   0%|          | 0.00/483 [00:00<?, ?B/s]"
            ]
          },
          "metadata": {}
        },
        {
          "output_type": "display_data",
          "data": {
            "application/vnd.jupyter.widget-view+json": {
              "model_id": "91b52e620b3b42018b0d044b926477a7",
              "version_minor": 0,
              "version_major": 2
            },
            "text/plain": [
              "Downloading:   0%|          | 0.00/363M [00:00<?, ?B/s]"
            ]
          },
          "metadata": {}
        },
        {
          "output_type": "stream",
          "name": "stderr",
          "text": [
            "Some layers from the model checkpoint at distilbert-base-uncased were not used when initializing TFDistilBertForSequenceClassification: ['activation_13', 'vocab_layer_norm', 'vocab_projector', 'vocab_transform']\n",
            "- This IS expected if you are initializing TFDistilBertForSequenceClassification from the checkpoint of a model trained on another task or with another architecture (e.g. initializing a BertForSequenceClassification model from a BertForPreTraining model).\n",
            "- This IS NOT expected if you are initializing TFDistilBertForSequenceClassification from the checkpoint of a model that you expect to be exactly identical (initializing a BertForSequenceClassification model from a BertForSequenceClassification model).\n",
            "Some layers of TFDistilBertForSequenceClassification were not initialized from the model checkpoint at distilbert-base-uncased and are newly initialized: ['classifier', 'pre_classifier', 'dropout_19']\n",
            "You should probably TRAIN this model on a down-stream task to be able to use it for predictions and inference.\n"
          ]
        },
        {
          "output_type": "stream",
          "name": "stdout",
          "text": [
            "Model: \"tf_distil_bert_for_sequence_classification\"\n",
            "_________________________________________________________________\n",
            "Layer (type)                 Output Shape              Param #   \n",
            "=================================================================\n",
            "distilbert (TFDistilBertMain multiple                  66362880  \n",
            "_________________________________________________________________\n",
            "pre_classifier (Dense)       multiple                  590592    \n",
            "_________________________________________________________________\n",
            "classifier (Dense)           multiple                  1538      \n",
            "_________________________________________________________________\n",
            "dropout_19 (Dropout)         multiple                  0         \n",
            "=================================================================\n",
            "Total params: 66,955,010\n",
            "Trainable params: 66,955,010\n",
            "Non-trainable params: 0\n",
            "_________________________________________________________________\n"
          ]
        }
      ],
      "metadata": {
        "colab": {
          "base_uri": "https://localhost:8080/",
          "height": 458,
          "referenced_widgets": [
            "d451ef7948c04fa2882e1d151c4997a6",
            "650485c707fd41fd9cda5fd5a7aafe5f",
            "c2f8c9a9631d490d98c25dfcd572bf7e",
            "7a74159bca404c8fad610f0f6061b74e",
            "e5af27254c6f4dbb929d5bca8c034e33",
            "39abd1254658408fa54079209ece2633",
            "e17609d8dab8434b9fbc9cea6b8449d9",
            "cd07367bde49480480242e2b44a43956",
            "b9944053ae5c46b996190712e2ea8250",
            "c70f4076b27c4719a065cb5694d06021",
            "1d68743b89de43f2be4371670520467e"
          ]
        },
        "id": "xwS9UIUFES4n",
        "outputId": "36e3ae41-d9c5-47e9-ed4a-b66071c2a6d5"
      }
    },
    {
      "cell_type": "code",
      "execution_count": 6,
      "source": [
        "optimizer = tf.keras.optimizers.Adam(learning_rate=5e-5)\n",
        "model.compile(optimizer=optimizer, loss=tf.keras.losses.SparseCategoricalCrossentropy(from_logits = True),metrics = 'accuracy') "
      ],
      "outputs": [],
      "metadata": {
        "id": "zoAwbiqRJk1I"
      }
    },
    {
      "cell_type": "code",
      "execution_count": 7,
      "source": [
        "model.fit(train_dataset.shuffle(1000).batch(16), epochs=3, batch_size=16)"
      ],
      "outputs": [
        {
          "output_type": "stream",
          "name": "stdout",
          "text": [
            "Epoch 1/3\n",
            "WARNING:tensorflow:The parameters `output_attentions`, `output_hidden_states` and `use_cache` cannot be updated when calling a model.They have to be set to True/False in the config object (i.e.: `config=XConfig.from_pretrained('name', output_attentions=True)`).\n",
            "WARNING:tensorflow:AutoGraph could not transform <bound method Socket.send of <zmq.Socket(zmq.PUSH) at 0x7f0770d68590>> and will run it as-is.\n",
            "Please report this to the TensorFlow team. When filing the bug, set the verbosity to 10 (on Linux, `export AUTOGRAPH_VERBOSITY=10`) and attach the full output.\n",
            "Cause: module, class, method, function, traceback, frame, or code object was expected, got cython_function_or_method\n",
            "To silence this warning, decorate the function with @tf.autograph.experimental.do_not_convert\n",
            "WARNING: AutoGraph could not transform <bound method Socket.send of <zmq.Socket(zmq.PUSH) at 0x7f0770d68590>> and will run it as-is.\n",
            "Please report this to the TensorFlow team. When filing the bug, set the verbosity to 10 (on Linux, `export AUTOGRAPH_VERBOSITY=10`) and attach the full output.\n",
            "Cause: module, class, method, function, traceback, frame, or code object was expected, got cython_function_or_method\n",
            "To silence this warning, decorate the function with @tf.autograph.experimental.do_not_convert\n",
            "WARNING:tensorflow:AutoGraph could not transform <function wrap at 0x7f078bf80b90> and will run it as-is.\n",
            "Cause: while/else statement not yet supported\n",
            "To silence this warning, decorate the function with @tf.autograph.experimental.do_not_convert\n",
            "WARNING: AutoGraph could not transform <function wrap at 0x7f078bf80b90> and will run it as-is.\n",
            "Cause: while/else statement not yet supported\n",
            "To silence this warning, decorate the function with @tf.autograph.experimental.do_not_convert\n",
            "WARNING:tensorflow:The parameter `return_dict` cannot be set in graph mode and will always be set to `True`.\n",
            "WARNING:tensorflow:The parameters `output_attentions`, `output_hidden_states` and `use_cache` cannot be updated when calling a model.They have to be set to True/False in the config object (i.e.: `config=XConfig.from_pretrained('name', output_attentions=True)`).\n",
            "WARNING:tensorflow:The parameter `return_dict` cannot be set in graph mode and will always be set to `True`.\n",
            "93/93 [==============================] - 89s 477ms/step - loss: 0.2731 - accuracy: 0.9050\n",
            "Epoch 2/3\n",
            "93/93 [==============================] - 45s 481ms/step - loss: 0.1252 - accuracy: 0.9586\n",
            "Epoch 3/3\n",
            "93/93 [==============================] - 45s 482ms/step - loss: 0.0779 - accuracy: 0.9749\n"
          ]
        },
        {
          "output_type": "execute_result",
          "data": {
            "text/plain": [
              "<keras.callbacks.History at 0x7f061037a0d0>"
            ]
          },
          "metadata": {},
          "execution_count": 7
        }
      ],
      "metadata": {
        "colab": {
          "base_uri": "https://localhost:8080/"
        },
        "id": "43SVQKzcbBwB",
        "outputId": "8db6912e-b1ce-44f3-b472-f191f02416d9"
      }
    },
    {
      "cell_type": "code",
      "execution_count": 8,
      "source": [
        "# functio to make predictions over list of text \n",
        "# Takes care of preprocessing, all the way to prediction \n",
        "def pred_vectorized(text,model = model):\n",
        "    preds = tokenizer.encode(text,truncation=True,padding=True,max_length=max_length,return_tensors=\"tf\")\n",
        "    pred =  model.predict(preds)[0]\n",
        "    softed = tf.nn.softmax(pred).numpy()[0]\n",
        "    out = np.where( np.round(softed) ==1)[0][0]\n",
        "    return out"
      ],
      "outputs": [],
      "metadata": {
        "id": "cxt71Om3JBd5"
      }
    },
    {
      "cell_type": "code",
      "execution_count": 9,
      "source": [
        "y_hat = [pred_vectorized(x) for x in test_texts]"
      ],
      "outputs": [
        {
          "output_type": "stream",
          "name": "stdout",
          "text": [
            "WARNING:tensorflow:The parameters `output_attentions`, `output_hidden_states` and `use_cache` cannot be updated when calling a model.They have to be set to True/False in the config object (i.e.: `config=XConfig.from_pretrained('name', output_attentions=True)`).\n",
            "WARNING:tensorflow:The parameter `return_dict` cannot be set in graph mode and will always be set to `True`.\n",
            "WARNING:tensorflow:The parameters `output_attentions`, `output_hidden_states` and `use_cache` cannot be updated when calling a model.They have to be set to True/False in the config object (i.e.: `config=XConfig.from_pretrained('name', output_attentions=True)`).\n",
            "WARNING:tensorflow:The parameter `return_dict` cannot be set in graph mode and will always be set to `True`.\n",
            "WARNING:tensorflow:The parameters `output_attentions`, `output_hidden_states` and `use_cache` cannot be updated when calling a model.They have to be set to True/False in the config object (i.e.: `config=XConfig.from_pretrained('name', output_attentions=True)`).\n",
            "WARNING:tensorflow:The parameter `return_dict` cannot be set in graph mode and will always be set to `True`.\n"
          ]
        }
      ],
      "metadata": {
        "id": "DHImC19cGuLj",
        "colab": {
          "base_uri": "https://localhost:8080/"
        },
        "outputId": "6eefebed-3b0b-4e44-fc2a-0d0d74ade2f8"
      }
    },
    {
      "cell_type": "code",
      "execution_count": 10,
      "source": [
        "accuracy_score(test_labels,y_hat)"
      ],
      "outputs": [
        {
          "output_type": "execute_result",
          "data": {
            "text/plain": [
              "0.948509485094851"
            ]
          },
          "metadata": {},
          "execution_count": 10
        }
      ],
      "metadata": {
        "id": "AVFe2Zv1Lg6O",
        "colab": {
          "base_uri": "https://localhost:8080/"
        },
        "outputId": "93d270e2-e111-4988-c1ce-75f7d6485b45"
      }
    },
    {
      "cell_type": "markdown",
      "source": [
        "Prediction method works and we also have a great accuracy score. \n",
        "For the base incorportation of this app we will continue with this model."
      ],
      "metadata": {
        "id": "eNusPBKeHe-3"
      }
    },
    {
      "cell_type": "code",
      "execution_count": 11,
      "source": [
        "model.save(\"/content/model\")"
      ],
      "outputs": [
        {
          "output_type": "stream",
          "name": "stdout",
          "text": [
            "WARNING:tensorflow:The parameters `output_attentions`, `output_hidden_states` and `use_cache` cannot be updated when calling a model.They have to be set to True/False in the config object (i.e.: `config=XConfig.from_pretrained('name', output_attentions=True)`).\n",
            "WARNING:tensorflow:The parameter `return_dict` cannot be set in graph mode and will always be set to `True`.\n",
            "WARNING:tensorflow:Skipping full serialization of Keras layer <keras.layers.core.Dropout object at 0x7f061c06fad0>, because it is not built.\n",
            "WARNING:tensorflow:Skipping full serialization of Keras layer <keras.layers.core.Dropout object at 0x7f06104df410>, because it is not built.\n",
            "WARNING:tensorflow:Skipping full serialization of Keras layer <keras.layers.core.Dropout object at 0x7f06104f7b90>, because it is not built.\n",
            "WARNING:tensorflow:Skipping full serialization of Keras layer <keras.layers.core.Dropout object at 0x7f061050f590>, because it is not built.\n",
            "WARNING:tensorflow:Skipping full serialization of Keras layer <keras.layers.core.Dropout object at 0x7f061049df50>, because it is not built.\n",
            "WARNING:tensorflow:Skipping full serialization of Keras layer <keras.layers.core.Dropout object at 0x7f06104b4910>, because it is not built.\n",
            "WARNING:tensorflow:The parameters `output_attentions`, `output_hidden_states` and `use_cache` cannot be updated when calling a model.They have to be set to True/False in the config object (i.e.: `config=XConfig.from_pretrained('name', output_attentions=True)`).\n",
            "WARNING:tensorflow:The parameter `return_dict` cannot be set in graph mode and will always be set to `True`.\n",
            "WARNING:tensorflow:The parameters `output_attentions`, `output_hidden_states` and `use_cache` cannot be updated when calling a model.They have to be set to True/False in the config object (i.e.: `config=XConfig.from_pretrained('name', output_attentions=True)`).\n",
            "WARNING:tensorflow:The parameter `return_dict` cannot be set in graph mode and will always be set to `True`.\n",
            "WARNING:tensorflow:The parameters `output_attentions`, `output_hidden_states` and `use_cache` cannot be updated when calling a model.They have to be set to True/False in the config object (i.e.: `config=XConfig.from_pretrained('name', output_attentions=True)`).\n",
            "WARNING:tensorflow:The parameter `return_dict` cannot be set in graph mode and will always be set to `True`.\n",
            "WARNING:tensorflow:The parameters `output_attentions`, `output_hidden_states` and `use_cache` cannot be updated when calling a model.They have to be set to True/False in the config object (i.e.: `config=XConfig.from_pretrained('name', output_attentions=True)`).\n",
            "WARNING:tensorflow:The parameter `return_dict` cannot be set in graph mode and will always be set to `True`.\n",
            "WARNING:tensorflow:The parameters `output_attentions`, `output_hidden_states` and `use_cache` cannot be updated when calling a model.They have to be set to True/False in the config object (i.e.: `config=XConfig.from_pretrained('name', output_attentions=True)`).\n",
            "WARNING:tensorflow:The parameter `return_dict` cannot be set in graph mode and will always be set to `True`.\n",
            "WARNING:tensorflow:The parameters `output_attentions`, `output_hidden_states` and `use_cache` cannot be updated when calling a model.They have to be set to True/False in the config object (i.e.: `config=XConfig.from_pretrained('name', output_attentions=True)`).\n",
            "WARNING:tensorflow:The parameter `return_dict` cannot be set in graph mode and will always be set to `True`.\n",
            "WARNING:tensorflow:The parameters `output_attentions`, `output_hidden_states` and `use_cache` cannot be updated when calling a model.They have to be set to True/False in the config object (i.e.: `config=XConfig.from_pretrained('name', output_attentions=True)`).\n",
            "WARNING:tensorflow:The parameter `return_dict` cannot be set in graph mode and will always be set to `True`.\n"
          ]
        },
        {
          "output_type": "stream",
          "name": "stderr",
          "text": [
            "WARNING:absl:Found untraced functions such as embeddings_layer_call_and_return_conditional_losses, embeddings_layer_call_fn, transformer_layer_call_and_return_conditional_losses, transformer_layer_call_fn, add_layer_call_and_return_conditional_losses while saving (showing 5 of 415). These functions will not be directly callable after loading.\n"
          ]
        },
        {
          "output_type": "stream",
          "name": "stdout",
          "text": [
            "INFO:tensorflow:Assets written to: /content/model/assets\n"
          ]
        },
        {
          "output_type": "stream",
          "name": "stderr",
          "text": [
            "INFO:tensorflow:Assets written to: /content/model/assets\n",
            "/usr/local/lib/python3.7/dist-packages/keras/utils/generic_utils.py:497: CustomMaskWarning: Custom mask layers require a config and must override get_config. When loading, the custom mask layer must be passed to the custom_objects argument.\n",
            "  category=CustomMaskWarning)\n"
          ]
        }
      ],
      "metadata": {
        "colab": {
          "base_uri": "https://localhost:8080/"
        },
        "id": "um_dWhJVJrJD",
        "outputId": "fe190cdd-b93e-4ac0-d942-a9ac25c6d3fd"
      }
    },
    {
      "cell_type": "code",
      "execution_count": 12,
      "source": [
        "!zip -r /content/model.zip /content/model\n",
        "from google.colab import files\n",
        "files.download(\"/content/model.zip\")"
      ],
      "outputs": [
        {
          "output_type": "stream",
          "name": "stdout",
          "text": [
            "  adding: content/model/ (stored 0%)\n",
            "  adding: content/model/saved_model.pb (deflated 92%)\n",
            "  adding: content/model/variables/ (stored 0%)\n",
            "  adding: content/model/variables/variables.index (deflated 79%)\n",
            "  adding: content/model/variables/variables.data-00000-of-00001 (deflated 27%)\n",
            "  adding: content/model/keras_metadata.pb (deflated 94%)\n",
            "  adding: content/model/assets/ (stored 0%)\n"
          ]
        },
        {
          "output_type": "display_data",
          "data": {
            "application/javascript": "\n    async function download(id, filename, size) {\n      if (!google.colab.kernel.accessAllowed) {\n        return;\n      }\n      const div = document.createElement('div');\n      const label = document.createElement('label');\n      label.textContent = `Downloading \"${filename}\": `;\n      div.appendChild(label);\n      const progress = document.createElement('progress');\n      progress.max = size;\n      div.appendChild(progress);\n      document.body.appendChild(div);\n\n      const buffers = [];\n      let downloaded = 0;\n\n      const channel = await google.colab.kernel.comms.open(id);\n      // Send a message to notify the kernel that we're ready.\n      channel.send({})\n\n      for await (const message of channel.messages) {\n        // Send a message to notify the kernel that we're ready.\n        channel.send({})\n        if (message.buffers) {\n          for (const buffer of message.buffers) {\n            buffers.push(buffer);\n            downloaded += buffer.byteLength;\n            progress.value = downloaded;\n          }\n        }\n      }\n      const blob = new Blob(buffers, {type: 'application/binary'});\n      const a = document.createElement('a');\n      a.href = window.URL.createObjectURL(blob);\n      a.download = filename;\n      div.appendChild(a);\n      a.click();\n      div.remove();\n    }\n  ",
            "text/plain": [
              "<IPython.core.display.Javascript object>"
            ]
          },
          "metadata": {}
        },
        {
          "output_type": "display_data",
          "data": {
            "application/javascript": "download(\"download_7a10aac4-dfbf-4e0d-b5ed-fb58871dddee\", \"model.zip\", 585491666)",
            "text/plain": [
              "<IPython.core.display.Javascript object>"
            ]
          },
          "metadata": {}
        }
      ],
      "metadata": {
        "colab": {
          "base_uri": "https://localhost:8080/",
          "height": 153
        },
        "id": "tNobbyc_Kmk6",
        "outputId": "c6968764-0de8-477b-ab7d-2be72a3ef565"
      }
    }
  ]
}