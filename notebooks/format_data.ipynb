{
 "cells": [
  {
   "cell_type": "code",
   "execution_count": 1,
   "source": [
    "from bs4 import BeautifulSoup\r\n",
    "from selenium import webdriver\r\n",
    "from selenium.webdriver.common.by import By\r\n",
    "from selenium.webdriver.common.keys import Keys\r\n",
    "from selenium.webdriver.support.ui import WebDriverWait\r\n",
    "from selenium.webdriver.firefox.firefox_binary import FirefoxBinary\r\n",
    "from selenium.webdriver.support import expected_conditions as EC\r\n",
    "import time\r\n",
    "import joblib\r\n",
    "import pickle\r\n",
    "import re"
   ],
   "outputs": [],
   "metadata": {}
  },
  {
   "cell_type": "code",
   "execution_count": 2,
   "source": [
    "def load():\r\n",
    "    with open('../data/job_dict.p', 'rb') as fp:\r\n",
    "        job_dict = pickle.load(fp)\r\n",
    "    return job_dict"
   ],
   "outputs": [],
   "metadata": {}
  },
  {
   "cell_type": "code",
   "execution_count": 3,
   "source": [
    "bool(re.search(\".*[Dd]ata\\s[Aa]nal.*\", \"Data Analyst\"))"
   ],
   "outputs": [
    {
     "output_type": "execute_result",
     "data": {
      "text/plain": [
       "True"
      ]
     },
     "metadata": {},
     "execution_count": 3
    }
   ],
   "metadata": {}
  },
  {
   "cell_type": "code",
   "execution_count": 5,
   "source": [
    "data_science = []\r\n",
    "machine_learning = []\r\n",
    "analyst = []\r\n",
    "art_int = []\r\n",
    "left_over= []\r\n",
    "statistics= []\r\n",
    "for listing,key in zip(job_dict,list(job_dict.keys())):\r\n",
    "    inf = job_dict.get(key)\r\n",
    "    role = inf.get('role')\r\n",
    "    ds = bool(re.search(\".*[Dd]ata\\s.[Sc]ien.*\", role))\r\n",
    "    ml = bool(re.search(\".*[Mm]achine\\s[Ll]earn.*\",role))\r\n",
    "    anal = bool(re.search(\".*[Dd]ata\\s[Aa]nal.*\", role))\r\n",
    "    ai_long = bool(re.search(\".*\\s[Aa]rtificial\\s[Ii]ntelligence\\s.*\", role))\r\n",
    "    ai = bool(re.search(\".*\\s[Aa][Ii]\\s.*\", role))\r\n",
    "    stat = bool(re.search(\".*[St]at.*\\s[Pp]rogram.*\", role))\r\n",
    "    if(ds):\r\n",
    "        data_science.append(listing)\r\n",
    "    elif(ml):\r\n",
    "        machine_learning.append(listing)\r\n",
    "    elif(anal):\r\n",
    "        analyst.append(listing)\r\n",
    "    elif((ai or ai_long) and listing not in data_science and listing not in analyst and listing not in machine_learning):\r\n",
    "        art_int.append(listing)\r\n",
    "    elif(stat and listing not in data_science and listing not in analyst and listing not in machine_learning):\r\n",
    "        statistics.append(listing)\r\n",
    "    else:\r\n",
    "        left_over.append(listing)\r\n"
   ],
   "outputs": [],
   "metadata": {}
  },
  {
   "cell_type": "code",
   "execution_count": 6,
   "source": [
    "len(analyst),len(machine_learning),len(data_science),len(statistics),len(art_int)\r\n"
   ],
   "outputs": [
    {
     "output_type": "execute_result",
     "data": {
      "text/plain": [
       "(85, 83, 201, 30, 6)"
      ]
     },
     "metadata": {},
     "execution_count": 6
    }
   ],
   "metadata": {}
  },
  {
   "cell_type": "code",
   "execution_count": 7,
   "source": [
    "role = []\r\n",
    "for i in art_int:\r\n",
    "    listing= job_dict.get(i)\r\n",
    "    role.append(listing.get('role'))"
   ],
   "outputs": [],
   "metadata": {}
  },
  {
   "cell_type": "code",
   "execution_count": 8,
   "source": [
    "analyst[0]"
   ],
   "outputs": [
    {
     "output_type": "execute_result",
     "data": {
      "text/plain": [
       "'https://www.linkedin.com/jobs/view/2718050180/?eBP=JOB_SEARCH_ORGANIC&recommendedFlavor=SCHOOL_RECRUIT&refId=C21eU%2FEAkO2esvvHCqDtuA%3D%3D&trackingId=x%2BHp8XQtL4fas1Oj2HWuPw%3D%3D&trk=flagship3_search_srp_jobs'"
      ]
     },
     "metadata": {},
     "execution_count": 8
    }
   ],
   "metadata": {}
  },
  {
   "cell_type": "code",
   "execution_count": 44,
   "source": [
    "descriptions=[]\r\n",
    "for i in range(50):\r\n",
    "    desc = job_dict.get(analyst[i]).get('description').split(\"\\n\")\r\n",
    "    descriptions.append(desc)"
   ],
   "outputs": [],
   "metadata": {}
  },
  {
   "cell_type": "code",
   "execution_count": 10,
   "source": [
    "analyst[0]"
   ],
   "outputs": [
    {
     "output_type": "execute_result",
     "data": {
      "text/plain": [
       "'https://www.linkedin.com/jobs/view/2718050180/?eBP=JOB_SEARCH_ORGANIC&recommendedFlavor=SCHOOL_RECRUIT&refId=C21eU%2FEAkO2esvvHCqDtuA%3D%3D&trackingId=x%2BHp8XQtL4fas1Oj2HWuPw%3D%3D&trk=flagship3_search_srp_jobs'"
      ]
     },
     "metadata": {},
     "execution_count": 10
    }
   ],
   "metadata": {}
  },
  {
   "cell_type": "code",
   "execution_count": 54,
   "source": [
    "count_vect = joblib.load('../model/count_vect.pkl')\r\n",
    "freq_transformer = joblib.load('../model/freq_transformer.pkl')\r\n",
    "classfier = joblib.load('../model/classifier.pkl')"
   ],
   "outputs": [],
   "metadata": {}
  },
  {
   "cell_type": "code",
   "execution_count": 55,
   "source": [
    "from sklearn.model_selection import cross_val_score\r\n",
    "from sklearn.feature_extraction.text import CountVectorizer\r\n",
    "from sklearn.feature_extraction.text import TfidfTransformer\r\n",
    "from sklearn.naive_bayes import MultinomialNB\r\n",
    "from sklearn.metrics import plot_confusion_matrix\r\n",
    "import numpy as np\r\n",
    "import pandas as pd\r\n"
   ],
   "outputs": [],
   "metadata": {}
  },
  {
   "cell_type": "code",
   "execution_count": 56,
   "source": [
    "\r\n",
    "prod_data = []\r\n",
    "for k in descriptions:\r\n",
    "   [prod_data.append(x) for x in k if x !=\"\"]\r\n",
    "   \r\n",
    "\r\n",
    "\r\n",
    "prod_data = pd.Series(prod_data)\r\n",
    "prod_counts= count_vect.transform(prod_data)\r\n",
    "prod_freq = freq_transformer.transform(prod_counts)\r\n",
    "pd.concat([pd.Series(classfier.predict(prod_freq)),prod_data],axis =1).to_csv('test_1.csv')"
   ],
   "outputs": [],
   "metadata": {}
  },
  {
   "cell_type": "code",
   "execution_count": null,
   "source": [
    "ind = [i for i, x in enumerate(t) if x]\r\n"
   ],
   "outputs": [],
   "metadata": {}
  },
  {
   "cell_type": "code",
   "execution_count": null,
   "source": [
    "for i in ind:\r\n",
    "    print(description[i])"
   ],
   "outputs": [
    {
     "output_type": "stream",
     "name": "stdout",
     "text": [
      "Support the analytical needs of a main business unit and identify insights in support of the business and clients\n",
      "What do you need to succeed?\n",
      "Undergraduate in Business, Statistics, Computer Science, Mathematics, Engineering, or Physics (or equivalent university degree or college diploma)\n",
      "Flexible Benefits from the day you join to meet the needs of you and your family\n",
      "Persons with disabilities who need accommodation in the application process or those needing job postings in an alternative format may e-mail a request to thebrightside@sunlife.com .\n",
      "At Sun Life we strive to create a flexible work environment where our employees are empowered to do their best work. Several flexible work options are available and can be discussed throughout the selection process depending on the role requirements and individual needs.\n"
     ]
    }
   ],
   "metadata": {}
  }
 ],
 "metadata": {
  "orig_nbformat": 4,
  "language_info": {
   "name": "python",
   "version": "3.8.5",
   "mimetype": "text/x-python",
   "codemirror_mode": {
    "name": "ipython",
    "version": 3
   },
   "pygments_lexer": "ipython3",
   "nbconvert_exporter": "python",
   "file_extension": ".py"
  },
  "kernelspec": {
   "name": "python3",
   "display_name": "Python 3.8.5 64-bit ('DataSci': conda)"
  },
  "interpreter": {
   "hash": "1ffc7893c692848b0397a1b2e1036e6e58d5f9824a51a1f3b5e4a482673fe79a"
  }
 },
 "nbformat": 4,
 "nbformat_minor": 2
}