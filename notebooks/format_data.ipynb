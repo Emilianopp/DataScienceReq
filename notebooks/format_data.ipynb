{
 "cells": [
  {
   "cell_type": "code",
   "execution_count": 4,
   "source": [
    "from bs4 import BeautifulSoup\r\n",
    "from selenium import webdriver\r\n",
    "from selenium.webdriver.common.by import By\r\n",
    "from selenium.webdriver.common.keys import Keys\r\n",
    "from selenium.webdriver.support.ui import WebDriverWait\r\n",
    "from selenium.webdriver.firefox.firefox_binary import FirefoxBinary\r\n",
    "from selenium.webdriver.support import expected_conditions as EC\r\n",
    "import time\r\n",
    "import pickle\r\n",
    "import re"
   ],
   "outputs": [],
   "metadata": {}
  },
  {
   "cell_type": "code",
   "execution_count": 42,
   "source": [
    "def load():\r\n",
    "    with open('job_dict.p', 'rb') as fp:\r\n",
    "        job_dict = pickle.load(fp)\r\n",
    "    return job_dict"
   ],
   "outputs": [],
   "metadata": {}
  },
  {
   "cell_type": "code",
   "execution_count": 40,
   "source": [
    "bool(re.search(\".*[Dd]ata\\s[Aa]nal.*\", \"Data Analyst\"))"
   ],
   "outputs": [
    {
     "output_type": "execute_result",
     "data": {
      "text/plain": [
       "True"
      ]
     },
     "metadata": {},
     "execution_count": 40
    }
   ],
   "metadata": {}
  },
  {
   "cell_type": "code",
   "execution_count": 47,
   "source": [
    "job_dict = load()\r\n",
    "for i in job_dict:\r\n",
    "    print (i) \r\n",
    "    break;"
   ],
   "outputs": [
    {
     "output_type": "stream",
     "name": "stdout",
     "text": [
      "https://www.linkedin.com/jobs/view/2709576113/?eBP=CwEAAAF79AIYP_6T2aj2BYi570qvTNuqYr6OIg1U8ibflRNcFp7Sq7Slc9Ioj5GCmZ2zZNH5yY8Xxb0r1wSUv6MJc50fVlRgwh62nmdpFSBMAEUGU5gPNehf7blmf0IsZc4nnqZFVAVhFRxyKvJ-_BDHib9fPH2XCCdo73oftXa9Zvou58eJY8i3U-7uo-LeiEhBNtDv111WgchYuDxCPaIz2OQBZD7HvmMZEBjcgGhmYCd_LWnThmIgBWVbmThNKpnIfTYh7oaVD_-2d_hWE0fXZSVHB3Nw7ZygDbdn7BdxJb1nXxhefWEZvAacVyONq7dtLZKe1sKuLfnXNYPpHbN52mgqwWOOwyJUl2GIg_YbQRODbHFZ7l8jiKEDthYAWGA&recommendedFlavor=SCHOOL_RECRUIT&refId=C21eU%2FEAkO2esvvHCqDtuA%3D%3D&trackingId=Lo%2B3%2FlFGQpyqkknEbL1Fqg%3D%3D&trk=flagship3_search_srp_jobs\n"
     ]
    }
   ],
   "metadata": {}
  },
  {
   "cell_type": "code",
   "execution_count": 92,
   "source": [
    "data_science = []\r\n",
    "machine_learning = []\r\n",
    "analyst = []\r\n",
    "art_int = []\r\n",
    "left_over= []\r\n",
    "statistics= []\r\n",
    "for listing,key in zip(job_dict,list(job_dict.keys())):\r\n",
    "    inf = job_dict.get(key)\r\n",
    "    role = inf.get('role')\r\n",
    "    ds = bool(re.search(\".*[Dd]ata\\s.[Sc]ien.*\", role))\r\n",
    "    ml = bool(re.search(\".*[Mm]achine\\s[Ll]earn.*\",role))\r\n",
    "    anal = bool(re.search(\".*[Dd]ata\\s[Aa]nal.*\", role))\r\n",
    "    ai_long = bool(re.search(\".*\\s[Aa]rtificial\\s[Ii]ntelligence\\s.*\", role))\r\n",
    "    ai = bool(re.search(\".*\\s[Aa][Ii]\\s.*\", role))\r\n",
    "    stat = bool(re.search(\".*[St]at.*\\s[Pp]rogram.*\", role))\r\n",
    "    if(ds):\r\n",
    "        data_science.append(listing)\r\n",
    "    elif(ml):\r\n",
    "        machine_learning.append(listing)\r\n",
    "    elif(anal):\r\n",
    "        analyst.append(listing)\r\n",
    "    elif((ai or ai_long) and listing not in data_science and listing not in analyst and listing not in machine_learning):\r\n",
    "        art_int.append(listing)\r\n",
    "    elif(stat and listing not in data_science and listing not in analyst and listing not in machine_learning):\r\n",
    "        statistics.append(listing)\r\n",
    "    else:\r\n",
    "        left_over.append(listing)\r\n"
   ],
   "outputs": [],
   "metadata": {}
  },
  {
   "cell_type": "code",
   "execution_count": 95,
   "source": [
    "len(analyst),len(machine_learning),len(data_science),len(statistics),len(art_int)\r\n"
   ],
   "outputs": [
    {
     "output_type": "execute_result",
     "data": {
      "text/plain": [
       "(85, 83, 201, 30, 6)"
      ]
     },
     "metadata": {},
     "execution_count": 95
    }
   ],
   "metadata": {}
  },
  {
   "cell_type": "code",
   "execution_count": 99,
   "source": [
    "role = []\r\n",
    "for i in art_int:\r\n",
    "    listing= job_dict.get(i)\r\n",
    "    role.append(listing.get('role'))\r\n",
    "\r\n"
   ],
   "outputs": [],
   "metadata": {}
  },
  {
   "cell_type": "code",
   "execution_count": 101,
   "source": [
    "description = job_dict.get(analyst[1]).get('description').split(\"\\n\")\r\n",
    "t = [bool(re.search(\".*[Nn][Ee][Ee][Dd]*\", x)) for x in description]"
   ],
   "outputs": [],
   "metadata": {}
  },
  {
   "cell_type": "code",
   "execution_count": 37,
   "source": [
    "count_vect = joblib.load('count_vect.pkl')\r\n",
    "freq_transformer = joblib.load('freq_transformer.pkl')"
   ],
   "outputs": [],
   "metadata": {}
  },
  {
   "cell_type": "code",
   "execution_count": 39,
   "source": [
    "from sklearn.model_selection import cross_val_score\r\n",
    "from sklearn.feature_extraction.text import CountVectorizer\r\n",
    "from sklearn.feature_extraction.text import TfidfTransformer\r\n",
    "from sklearn.naive_bayes import MultinomialNB\r\n",
    "from sklearn.metrics import plot_confusion_matrix\r\n",
    "import numpy as np\r\n",
    "import pandas as pd\r\n",
    "\r\n",
    "\r\n",
    "prod_data =pd.Series([x for x in description if x !=\"\"])\r\n",
    "prod_counts= count_vect.transform(prod_data)\r\n",
    "prod_freq = freq_transformer.transform(prod_counts)"
   ],
   "outputs": [],
   "metadata": {}
  },
  {
   "cell_type": "code",
   "execution_count": 16,
   "source": [
    "import joblib \r\n",
    "classfier = joblib.load('classifier.pkl')"
   ],
   "outputs": [],
   "metadata": {}
  },
  {
   "cell_type": "code",
   "execution_count": 46,
   "source": [
    "pd.concat([pd.Series(classfier.predict(prod_freq)),prod_data],axis =1).to_csv('test.csv')\r\n"
   ],
   "outputs": [],
   "metadata": {}
  },
  {
   "cell_type": "code",
   "execution_count": 105,
   "source": [
    "ind = [i for i, x in enumerate(t) if x]\r\n"
   ],
   "outputs": [],
   "metadata": {}
  },
  {
   "cell_type": "code",
   "execution_count": 106,
   "source": [
    "for i in ind:\r\n",
    "    print(description[i])"
   ],
   "outputs": [
    {
     "output_type": "stream",
     "name": "stdout",
     "text": [
      "Ford was built on the belief that freedom of movement drives human progress. As we look to the future and the changing needs of society, we are committed to becoming the world’s most trusted mobility company – delivering smart vehicles for a smart world. Join our team as we create tomorrow! We believe in putting people first, working together, and facing challenges head-on.\n",
      "The Data Analyst will join a team that manages and maintains our rapidly growing analytics platform. You will be working as part of a motivated team in a fast-paced working environment, where quality and attention to detail are vital. The successful candidate will be responsible for working with the team to ensure the proper data is being collected that is needed to solve difficult technical problems as well as ensuring we are delivering features that the customer loves. The Data Analyst will be performing complex modelling and analyses of the data in order to produce well thought out findings and presentations. Those presentations and visualizations should be able to turn the data into an exciting story that influences the direction of the team and company. The Data Analyst will be aware of all the intricacies and complexities of the data and be able to communicate those effectively as part of the evaluation of the data.\n",
      "Work with the team to ensure the data needed is being collected at all times and is enumerated, tracked and valid\n",
      "WHAT YOU'LL NEED:\n",
      "Bachelor’s Degree in data science, data engineering or related field (Successful candidates will be required to provide proof of degree completion for the highest level of education attained. If the degree was obtained from a school outside of Canada, an Education Credential Assessment report showing Canadian equivalency is also required.)\n",
      "Ford of Canada is an Equal Opportunity Employer and is committed to a culturally diverse workforce. Accommodations for applicants with disabilities throughout the recruitment, selection and / or assessment processes, where needed, are available upon request. Please inform Human Resources of the nature of any accommodation(s) that you may require.\n"
     ]
    }
   ],
   "metadata": {}
  }
 ],
 "metadata": {
  "orig_nbformat": 4,
  "language_info": {
   "name": "python",
   "version": "3.8.5",
   "mimetype": "text/x-python",
   "codemirror_mode": {
    "name": "ipython",
    "version": 3
   },
   "pygments_lexer": "ipython3",
   "nbconvert_exporter": "python",
   "file_extension": ".py"
  },
  "kernelspec": {
   "name": "python3",
   "display_name": "Python 3.8.5 64-bit ('DataSci': conda)"
  },
  "interpreter": {
   "hash": "1ffc7893c692848b0397a1b2e1036e6e58d5f9824a51a1f3b5e4a482673fe79a"
  }
 },
 "nbformat": 4,
 "nbformat_minor": 2
}