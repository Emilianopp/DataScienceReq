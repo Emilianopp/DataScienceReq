{
 "cells": [
  {
   "cell_type": "code",
   "execution_count": null,
   "source": [
    "from sklearn.model_selection import cross_val_score\r\n",
    "from sklearn.feature_extraction.text import CountVectorizer\r\n",
    "from sklearn.feature_extraction.text import TfidfTransformer\r\n",
    "from sklearn.naive_bayes import MultinomialNB\r\n",
    "from sklearn.metrics import plot_confusion_matrix\r\n",
    "import numpy as np\r\n",
    "import pandas as pd"
   ],
   "outputs": [],
   "metadata": {}
  },
  {
   "cell_type": "code",
   "execution_count": null,
   "source": [
    "count_vect = joblib.load('../model/count_vect.pkl')\r\n",
    "freq_transformer = joblib.load('../model/freq_transformer.pkl')\r\n",
    "classfier = joblib.load('../model/classifier.pkl')\r\n",
    "prod_counts= count_vect.transform(prod_data)\r\n",
    "prod_freq = freq_transformer.transform(prod_counts)\r\n",
    "pd.concat([pd.Series(classfier.predict(prod_freq)),prod_data],axis =1).to_csv('test_1.csv')"
   ],
   "outputs": [],
   "metadata": {}
  }
 ],
 "metadata": {
  "orig_nbformat": 4,
  "language_info": {
   "name": "python"
  }
 },
 "nbformat": 4,
 "nbformat_minor": 2
}