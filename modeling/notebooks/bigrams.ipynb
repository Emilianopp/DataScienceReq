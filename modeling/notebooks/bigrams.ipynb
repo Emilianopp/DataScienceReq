{
 "cells": [
  {
   "cell_type": "code",
   "execution_count": null,
   "metadata": {},
   "outputs": [],
   "source": [
    "import pymongo \n",
    "import pandas as pd \n",
    "import plotly as px \n",
    "import numpy as np \n",
    "import sys\n",
    "import pymongo\n",
    "from pymongo import MongoClient \n",
    "import re\n",
    "import nltk\n",
    "from nltk.collocations import *\n",
    "from nltk.corpus import stopwords\n",
    "from collections import Counter"
   ]
  },
  {
   "cell_type": "code",
   "execution_count": null,
   "metadata": {},
   "outputs": [],
   "source": [
    "def bigram_analysis(df,thresh = 5,insert = False,col = \"bigrams\"):\n",
    "    bigram_measures = nltk.collocations.BigramAssocMeasures()\n",
    "    corpus_list = [self.cleanse_sentence(self.strip_digits_from_corpus(sentence)) for sentence in df.text]\n",
    "    corpus = ' '.join(corpus_list)\n",
    "    finder = BigramCollocationFinder.from_words(corpus.lower().split(\" \"),window_size=2)\n",
    "    finder.apply_freq_filter(thresh)\n",
    "    bigram_results = finder.score_ngrams(bigram_measures.pmi)\n",
    "    return bigram_results "
   ]
  }
 ],
 "metadata": {
  "language_info": {
   "name": "python"
  },
  "orig_nbformat": 4
 },
 "nbformat": 4,
 "nbformat_minor": 2
}
