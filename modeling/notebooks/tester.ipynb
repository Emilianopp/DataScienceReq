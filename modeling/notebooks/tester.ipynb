{
 "cells": [
  {
   "cell_type": "code",
   "execution_count": 3,
   "metadata": {},
   "outputs": [],
   "source": [
    "import pymongo\n",
    "from pymongo import MongoClient\n",
    "\n",
    "\n",
    "class Scraped_Data:\n",
    "\n",
    "    def __init__(self,client:MongoClient,test_mode:bool = False)->None:\n",
    "        self.client = client\n",
    "        if(test_mode):\n",
    "             self.db = self.client['test_db']\n",
    "        else:\n",
    "            self.db = self.client['prod']\n",
    "        self.collection = self.db['Scraped_Data']\n",
    "\n",
    "    def get_database(self,database:str)->None:\n",
    "        return self.client[f'{database}']\n",
    "    def make_index(self,index:str) -> None:\n",
    "        self.collection.create_index(index,unique =True)\n",
    "    def insert_document(self,doc:dict)->bool:\n",
    "        self.collection.insert_one(doc)\n",
    "\n"
   ]
  },
  {
   "cell_type": "code",
   "execution_count": 17,
   "metadata": {},
   "outputs": [
    {
     "data": {
      "text/plain": [
       "'role_1_company_1_location_1'"
      ]
     },
     "execution_count": 17,
     "metadata": {},
     "output_type": "execute_result"
    }
   ],
   "source": [
    "t.collection.create_index([(\"role\",1),(\"company\",1),(\"location\",1)],unique = True)"
   ]
  },
  {
   "cell_type": "code",
   "execution_count": 4,
   "metadata": {},
   "outputs": [
    {
     "data": {
      "text/plain": [
       "{'_id_': {'v': 2, 'key': [('_id', 1)]},\n",
       " 'url_1': {'v': 2, 'key': [('url', 1)], 'unique': True}}"
      ]
     },
     "execution_count": 4,
     "metadata": {},
     "output_type": "execute_result"
    }
   ],
   "source": [
    "\n",
    "client = MongoClient()\n",
    "t = Scraped_Data(client)\n",
    "t.collection.index_information()"
   ]
  },
  {
   "cell_type": "code",
   "execution_count": 21,
   "metadata": {},
   "outputs": [
    {
     "name": "stdout",
     "output_type": "stream",
     "text": [
      "{3: 5, 1: 'r'}\n",
      "{1: 'r'}\n",
      "{3: 'r', 1: 'r'}\n"
     ]
    }
   ],
   "source": [
    "listy = [{3:5},{1:'4'},{3:'r'}]\n",
    "for i in listy:  \n",
    "    i.update({1:'r'})\n",
    "    print(i)"
   ]
  }
 ],
 "metadata": {
  "interpreter": {
   "hash": "1ffc7893c692848b0397a1b2e1036e6e58d5f9824a51a1f3b5e4a482673fe79a"
  },
  "kernelspec": {
   "display_name": "Python 3.8.12 64-bit ('DataSci': conda)",
   "name": "python3"
  },
  "language_info": {
   "codemirror_mode": {
    "name": "ipython",
    "version": 3
   },
   "file_extension": ".py",
   "mimetype": "text/x-python",
   "name": "python",
   "nbconvert_exporter": "python",
   "pygments_lexer": "ipython3",
   "version": "3.8.12"
  },
  "orig_nbformat": 4
 },
 "nbformat": 4,
 "nbformat_minor": 2
}
