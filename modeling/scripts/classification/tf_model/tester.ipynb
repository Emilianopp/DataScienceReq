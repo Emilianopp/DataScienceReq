{
 "cells": [
  {
   "cell_type": "code",
   "execution_count": 31,
   "metadata": {},
   "outputs": [],
   "source": [
    "\n",
    "from tensorflow import keras\n",
    "import tensorflow as tf\n",
    "import numpy as np\n",
    "from datasets import load_dataset\n",
    "from sklearn.metrics import accuracy_score\n",
    "from transformers import TFDistilBertForSequenceClassification, DistilBertConfig,DistilBertTokenizer,TFDistilBertForSequenceClassification\n",
    "'''\n",
    "Predictor class \n",
    "Allows to create an object to run new data on \n",
    "path to pretrained tokinizers and model are required\n",
    "'''\n",
    "class Predictor:\n",
    "\n",
    "  def __init__(self,path_tokenizer,path_model):\n",
    "    self.tokenizer = DistilBertTokenizer.from_pretrained(path_tokenizer,local_files_only=True)\n",
    "    self.model = TFDistilBertForSequenceClassification.from_pretrained('./model_BERT')\n",
    "\n",
    "  '''\n",
    "  runs predictions for a given sentance\n",
    "  '''\n",
    "  def pred_vectorized(self,text,max_length = 150):\n",
    "      preds = self.tokenizer.encode(text,truncation=True,padding=True,max_length=max_length,return_tensors=\"tf\")\n",
    "      pred =  self.model.predict(preds)[0]\n",
    "      softed = tf.nn.softmax(pred).numpy()[0]\n",
    "      out = np.where( np.round(softed) ==1)[0][0]\n",
    "      return out\n",
    "\n",
    "  '''\n",
    "  Predicts and runs a list comprehension to predict values\n",
    "\n",
    "  +++++++++++++++++++++++++++++\n",
    "  Find a way to do this with numpy vectorization\n",
    "  +++++++++++++++++++++++++++++\n",
    "  \n",
    "  '''\n",
    "  def predict_prod(self,path):\n",
    "\n",
    "    prod_data = load_dataset('csv', data_files=path)\n",
    "    prod_txt = prod_data['train']['0']\n",
    "    preds_prod = [self.pred_vectorized(x) for x in prod_txt] \n",
    "    df = pd.read_csv('/content/prod_data.csv',index_col = [0])\n",
    "    df['out'] = pd.Series(preds_prod).values\n",
    "    self.prod_predict = df \n",
    "    return df \n",
    "\n",
    "  def save_df(self,path):\n",
    "    self.prod_predict.to_csv(path)\n",
    "\n",
    "\n"
   ]
  },
  {
   "cell_type": "code",
   "execution_count": 32,
   "metadata": {},
   "outputs": [
    {
     "name": "stderr",
     "output_type": "stream",
     "text": [
      "Some layers from the model checkpoint at ./model_BERT were not used when initializing TFDistilBertForSequenceClassification: ['dropout_116']\n",
      "- This IS expected if you are initializing TFDistilBertForSequenceClassification from the checkpoint of a model trained on another task or with another architecture (e.g. initializing a BertForSequenceClassification model from a BertForPreTraining model).\n",
      "- This IS NOT expected if you are initializing TFDistilBertForSequenceClassification from the checkpoint of a model that you expect to be exactly identical (initializing a BertForSequenceClassification model from a BertForSequenceClassification model).\n",
      "Some layers of TFDistilBertForSequenceClassification were not initialized from the model checkpoint at ./model_BERT and are newly initialized: ['dropout_57']\n",
      "You should probably TRAIN this model on a down-stream task to be able to use it for predictions and inference.\n"
     ]
    }
   ],
   "source": [
    "model_BERT = Predictor(path_tokenizer='./tokenizer',path_model='./model')"
   ]
  },
  {
   "cell_type": "markdown",
   "metadata": {},
   "source": [
    "{'input_ids': TensorSpec(shape=(None, 5), dtype=tf.int32, name='input_ids/input_ids')}"
   ]
  },
  {
   "cell_type": "code",
   "execution_count": 33,
   "metadata": {},
   "outputs": [
    {
     "name": "stderr",
     "output_type": "stream",
     "text": [
      "C:\\Users\\Emiliano\\Anaconda3\\envs\\DataSci\\lib\\site-packages\\transformers\\tokenization_utils_base.py:2227: UserWarning: `max_length` is ignored when `padding`=`True`.\n",
      "  warnings.warn(\"`max_length` is ignored when `padding`=`True`.\")\n"
     ]
    }
   ],
   "source": [
    "pred = model_BERT.pred_vectorized('you will need to know sql')\n"
   ]
  }
 ],
 "metadata": {
  "interpreter": {
   "hash": "1ffc7893c692848b0397a1b2e1036e6e58d5f9824a51a1f3b5e4a482673fe79a"
  },
  "kernelspec": {
   "display_name": "Python 3.8.12 64-bit ('DataSci': conda)",
   "name": "python3"
  },
  "language_info": {
   "codemirror_mode": {
    "name": "ipython",
    "version": 3
   },
   "file_extension": ".py",
   "mimetype": "text/x-python",
   "name": "python",
   "nbconvert_exporter": "python",
   "pygments_lexer": "ipython3",
   "version": "3.8.12"
  },
  "orig_nbformat": 4
 },
 "nbformat": 4,
 "nbformat_minor": 2
}
